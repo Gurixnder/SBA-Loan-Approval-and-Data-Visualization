{
 "cells": [
  {
   "cell_type": "code",
   "execution_count": 37,
   "id": "068825b3-ef98-49fa-ba5a-8ae9b64b5a7b",
   "metadata": {},
   "outputs": [],
   "source": [
    "import pandas as pd\n",
    "import numpy as np\n",
    "import matplotlib.pyplot as plt\n",
    "import sklearn as sc"
   ]
  },
  {
   "cell_type": "code",
   "execution_count": 38,
   "id": "971ae0e6-3d6a-4d6c-963a-87047feeb33a",
   "metadata": {},
   "outputs": [
    {
     "name": "stderr",
     "output_type": "stream",
     "text": [
      "C:\\Users\\gurin\\AppData\\Local\\Temp\\ipykernel_3400\\1533426435.py:1: DtypeWarning: Columns (9) have mixed types. Specify dtype option on import or set low_memory=False.\n",
      "  data = pd.read_csv('SBAnational.csv')\n"
     ]
    }
   ],
   "source": [
    "data = pd.read_csv('SBAnational.csv')"
   ]
  },
  {
   "cell_type": "code",
   "execution_count": 40,
   "id": "9c18807e-95d2-44f5-b0ee-f32997af2520",
   "metadata": {},
   "outputs": [
    {
     "data": {
      "text/html": [
       "<div>\n",
       "<style scoped>\n",
       "    .dataframe tbody tr th:only-of-type {\n",
       "        vertical-align: middle;\n",
       "    }\n",
       "\n",
       "    .dataframe tbody tr th {\n",
       "        vertical-align: top;\n",
       "    }\n",
       "\n",
       "    .dataframe thead th {\n",
       "        text-align: right;\n",
       "    }\n",
       "</style>\n",
       "<table border=\"1\" class=\"dataframe\">\n",
       "  <thead>\n",
       "    <tr style=\"text-align: right;\">\n",
       "      <th></th>\n",
       "      <th>LoanNr_ChkDgt</th>\n",
       "      <th>Name</th>\n",
       "      <th>City</th>\n",
       "      <th>State</th>\n",
       "      <th>Zip</th>\n",
       "      <th>Bank</th>\n",
       "      <th>BankState</th>\n",
       "      <th>NAICS</th>\n",
       "      <th>ApprovalDate</th>\n",
       "      <th>ApprovalFY</th>\n",
       "      <th>...</th>\n",
       "      <th>RevLineCr</th>\n",
       "      <th>LowDoc</th>\n",
       "      <th>ChgOffDate</th>\n",
       "      <th>DisbursementDate</th>\n",
       "      <th>DisbursementGross</th>\n",
       "      <th>BalanceGross</th>\n",
       "      <th>MIS_Status</th>\n",
       "      <th>ChgOffPrinGr</th>\n",
       "      <th>GrAppv</th>\n",
       "      <th>SBA_Appv</th>\n",
       "    </tr>\n",
       "  </thead>\n",
       "  <tbody>\n",
       "    <tr>\n",
       "      <th>729778</th>\n",
       "      <td>7593933003</td>\n",
       "      <td>SEAN F MURPHY, CPA</td>\n",
       "      <td>FRANKLIN</td>\n",
       "      <td>MA</td>\n",
       "      <td>2038</td>\n",
       "      <td>ROCKLAND TRUST COMPANY</td>\n",
       "      <td>MA</td>\n",
       "      <td>0</td>\n",
       "      <td>20-Sep-94</td>\n",
       "      <td>1994</td>\n",
       "      <td>...</td>\n",
       "      <td>N</td>\n",
       "      <td>Y</td>\n",
       "      <td>NaN</td>\n",
       "      <td>31-Oct-94</td>\n",
       "      <td>$30,000.00</td>\n",
       "      <td>$0.00</td>\n",
       "      <td>P I F</td>\n",
       "      <td>$0.00</td>\n",
       "      <td>$30,000.00</td>\n",
       "      <td>$27,000.00</td>\n",
       "    </tr>\n",
       "    <tr>\n",
       "      <th>506536</th>\n",
       "      <td>4902593009</td>\n",
       "      <td>L &amp; M BLACK OXIDE SERVICES</td>\n",
       "      <td>BURBANK</td>\n",
       "      <td>CA</td>\n",
       "      <td>91502</td>\n",
       "      <td>CITY NATIONAL BANK</td>\n",
       "      <td>CA</td>\n",
       "      <td>332813</td>\n",
       "      <td>26-Jun-92</td>\n",
       "      <td>1992</td>\n",
       "      <td>...</td>\n",
       "      <td>N</td>\n",
       "      <td>N</td>\n",
       "      <td>NaN</td>\n",
       "      <td>31-Jul-92</td>\n",
       "      <td>$200,000.00</td>\n",
       "      <td>$0.00</td>\n",
       "      <td>P I F</td>\n",
       "      <td>$0.00</td>\n",
       "      <td>$200,000.00</td>\n",
       "      <td>$160,000.00</td>\n",
       "    </tr>\n",
       "    <tr>\n",
       "      <th>895113</th>\n",
       "      <td>9904153002</td>\n",
       "      <td>ELLIJAY APPLE BREAD, LLC</td>\n",
       "      <td>ELLIJAY</td>\n",
       "      <td>GA</td>\n",
       "      <td>30540</td>\n",
       "      <td>BRANCH BK. &amp; TR CO</td>\n",
       "      <td>GA</td>\n",
       "      <td>311812</td>\n",
       "      <td>17-Jan-97</td>\n",
       "      <td>1997</td>\n",
       "      <td>...</td>\n",
       "      <td>N</td>\n",
       "      <td>Y</td>\n",
       "      <td>NaN</td>\n",
       "      <td>31-May-97</td>\n",
       "      <td>$100,000.00</td>\n",
       "      <td>$0.00</td>\n",
       "      <td>P I F</td>\n",
       "      <td>$0.00</td>\n",
       "      <td>$100,000.00</td>\n",
       "      <td>$80,000.00</td>\n",
       "    </tr>\n",
       "    <tr>\n",
       "      <th>865232</th>\n",
       "      <td>9324073006</td>\n",
       "      <td>GUYWIRE COMMUNICATIONS, INC.</td>\n",
       "      <td>METAIRIE</td>\n",
       "      <td>LA</td>\n",
       "      <td>70005</td>\n",
       "      <td>GULF COAST BK &amp; TR CO</td>\n",
       "      <td>LA</td>\n",
       "      <td>0</td>\n",
       "      <td>5-Jun-96</td>\n",
       "      <td>1996</td>\n",
       "      <td>...</td>\n",
       "      <td>N</td>\n",
       "      <td>N</td>\n",
       "      <td>NaN</td>\n",
       "      <td>31-May-97</td>\n",
       "      <td>$250,000.00</td>\n",
       "      <td>$0.00</td>\n",
       "      <td>P I F</td>\n",
       "      <td>$0.00</td>\n",
       "      <td>$250,000.00</td>\n",
       "      <td>$187,500.00</td>\n",
       "    </tr>\n",
       "    <tr>\n",
       "      <th>814463</th>\n",
       "      <td>8729573007</td>\n",
       "      <td>FAMILY TREE, INC., THE</td>\n",
       "      <td>KNOXVILLE</td>\n",
       "      <td>TN</td>\n",
       "      <td>37931</td>\n",
       "      <td>AREAWIDE DEVEL CORP</td>\n",
       "      <td>TN</td>\n",
       "      <td>0</td>\n",
       "      <td>23-Oct-95</td>\n",
       "      <td>1996</td>\n",
       "      <td>...</td>\n",
       "      <td>N</td>\n",
       "      <td>N</td>\n",
       "      <td>NaN</td>\n",
       "      <td>12-Jun-96</td>\n",
       "      <td>$517,000.00</td>\n",
       "      <td>$0.00</td>\n",
       "      <td>P I F</td>\n",
       "      <td>$0.00</td>\n",
       "      <td>$517,000.00</td>\n",
       "      <td>$517,000.00</td>\n",
       "    </tr>\n",
       "  </tbody>\n",
       "</table>\n",
       "<p>5 rows × 27 columns</p>\n",
       "</div>"
      ],
      "text/plain": [
       "        LoanNr_ChkDgt                          Name       City State    Zip  \\\n",
       "729778     7593933003            SEAN F MURPHY, CPA   FRANKLIN    MA   2038   \n",
       "506536     4902593009    L & M BLACK OXIDE SERVICES    BURBANK    CA  91502   \n",
       "895113     9904153002      ELLIJAY APPLE BREAD, LLC    ELLIJAY    GA  30540   \n",
       "865232     9324073006  GUYWIRE COMMUNICATIONS, INC.   METAIRIE    LA  70005   \n",
       "814463     8729573007        FAMILY TREE, INC., THE  KNOXVILLE    TN  37931   \n",
       "\n",
       "                          Bank BankState   NAICS ApprovalDate ApprovalFY  ...  \\\n",
       "729778  ROCKLAND TRUST COMPANY        MA       0    20-Sep-94       1994  ...   \n",
       "506536      CITY NATIONAL BANK        CA  332813    26-Jun-92       1992  ...   \n",
       "895113      BRANCH BK. & TR CO        GA  311812    17-Jan-97       1997  ...   \n",
       "865232   GULF COAST BK & TR CO        LA       0     5-Jun-96       1996  ...   \n",
       "814463     AREAWIDE DEVEL CORP        TN       0    23-Oct-95       1996  ...   \n",
       "\n",
       "        RevLineCr  LowDoc  ChgOffDate  DisbursementDate  DisbursementGross  \\\n",
       "729778          N       Y         NaN         31-Oct-94        $30,000.00    \n",
       "506536          N       N         NaN         31-Jul-92       $200,000.00    \n",
       "895113          N       Y         NaN         31-May-97       $100,000.00    \n",
       "865232          N       N         NaN         31-May-97       $250,000.00    \n",
       "814463          N       N         NaN         12-Jun-96       $517,000.00    \n",
       "\n",
       "        BalanceGross  MIS_Status ChgOffPrinGr        GrAppv      SBA_Appv  \n",
       "729778        $0.00        P I F       $0.00    $30,000.00    $27,000.00   \n",
       "506536        $0.00        P I F       $0.00   $200,000.00   $160,000.00   \n",
       "895113        $0.00        P I F       $0.00   $100,000.00    $80,000.00   \n",
       "865232        $0.00        P I F       $0.00   $250,000.00   $187,500.00   \n",
       "814463        $0.00        P I F       $0.00   $517,000.00   $517,000.00   \n",
       "\n",
       "[5 rows x 27 columns]"
      ]
     },
     "execution_count": 40,
     "metadata": {},
     "output_type": "execute_result"
    }
   ],
   "source": [
    "data.sample(5)"
   ]
  },
  {
   "cell_type": "code",
   "execution_count": 41,
   "id": "35d8de9d-d549-47e7-8588-16f145dffcdf",
   "metadata": {},
   "outputs": [
    {
     "data": {
      "text/plain": [
       "Index(['LoanNr_ChkDgt', 'Name', 'City', 'State', 'Zip', 'Bank', 'BankState',\n",
       "       'NAICS', 'ApprovalDate', 'ApprovalFY', 'Term', 'NoEmp', 'NewExist',\n",
       "       'CreateJob', 'RetainedJob', 'FranchiseCode', 'UrbanRural', 'RevLineCr',\n",
       "       'LowDoc', 'ChgOffDate', 'DisbursementDate', 'DisbursementGross',\n",
       "       'BalanceGross', 'MIS_Status', 'ChgOffPrinGr', 'GrAppv', 'SBA_Appv'],\n",
       "      dtype='object')"
      ]
     },
     "execution_count": 41,
     "metadata": {},
     "output_type": "execute_result"
    }
   ],
   "source": [
    "data.columns"
   ]
  },
  {
   "cell_type": "code",
   "execution_count": 45,
   "id": "fe745745-79ab-43be-a00f-1931636a6d9b",
   "metadata": {},
   "outputs": [
    {
     "data": {
      "text/plain": [
       "<bound method DataFrame.info of         LoanNr_ChkDgt                            Name             City State  \\\n",
       "0          1000014003                  ABC HOBBYCRAFT       EVANSVILLE    IN   \n",
       "1          1000024006     LANDMARK BAR & GRILLE (THE)        NEW PARIS    IN   \n",
       "2          1000034009           WHITLOCK DDS, TODD M.      BLOOMINGTON    IN   \n",
       "3          1000044001   BIG BUCKS PAWN & JEWELRY, LLC     BROKEN ARROW    OK   \n",
       "4          1000054004     ANASTASIA CONFECTIONS, INC.          ORLANDO    FL   \n",
       "...               ...                             ...              ...   ...   \n",
       "899159     9995573004                    FABRIC FARMS  UPPER ARLINGTON    OH   \n",
       "899160     9995603000                    FABRIC FARMS         COLUMBUS    OH   \n",
       "899161     9995613003    RADCO MANUFACTURING CO.,INC.      SANTA MARIA    CA   \n",
       "899162     9995973006           MARUTAMA HAWAII, INC.         HONOLULU    HI   \n",
       "899163     9996003010  PACIFIC TRADEWINDS FAN & LIGHT           KAILUA    HI   \n",
       "\n",
       "          Zip                            Bank BankState   NAICS ApprovalDate  \\\n",
       "0       47711                FIFTH THIRD BANK        OH  451120    28-Feb-97   \n",
       "1       46526                 1ST SOURCE BANK        IN  722410    28-Feb-97   \n",
       "2       47401         GRANT COUNTY STATE BANK        IN  621210    28-Feb-97   \n",
       "3       74012   1ST NATL BK & TR CO OF BROKEN        OK       0    28-Feb-97   \n",
       "4       32801         FLORIDA BUS. DEVEL CORP        FL       0    28-Feb-97   \n",
       "...       ...                             ...       ...     ...          ...   \n",
       "899159  43221  JPMORGAN CHASE BANK NATL ASSOC        IL  451120    27-Feb-97   \n",
       "899160  43221  JPMORGAN CHASE BANK NATL ASSOC        IL  451130    27-Feb-97   \n",
       "899161  93455  RABOBANK, NATIONAL ASSOCIATION        CA  332321    27-Feb-97   \n",
       "899162  96830                  BANK OF HAWAII        HI       0    27-Feb-97   \n",
       "899163  96734            CENTRAL PACIFIC BANK        HI       0    27-Feb-97   \n",
       "\n",
       "       ApprovalFY  ...  RevLineCr  LowDoc  ChgOffDate  DisbursementDate  \\\n",
       "0            1997  ...          N       Y         NaN         28-Feb-99   \n",
       "1            1997  ...          N       Y         NaN         31-May-97   \n",
       "2            1997  ...          N       N         NaN         31-Dec-97   \n",
       "3            1997  ...          N       Y         NaN         30-Jun-97   \n",
       "4            1997  ...          N       N         NaN         14-May-97   \n",
       "...           ...  ...        ...     ...         ...               ...   \n",
       "899159       1997  ...          0       N         NaN         30-Sep-97   \n",
       "899160       1997  ...          Y       N         NaN         31-Oct-97   \n",
       "899161       1997  ...          N       N         NaN         30-Sep-97   \n",
       "899162       1997  ...          N       Y    8-Mar-00         31-Mar-97   \n",
       "899163       1997  ...          N       N         NaN         31-May-97   \n",
       "\n",
       "        DisbursementGross  BalanceGross  MIS_Status ChgOffPrinGr  \\\n",
       "0             $60,000.00         $0.00        P I F       $0.00    \n",
       "1             $40,000.00         $0.00        P I F       $0.00    \n",
       "2            $287,000.00         $0.00        P I F       $0.00    \n",
       "3             $35,000.00         $0.00        P I F       $0.00    \n",
       "4            $229,000.00         $0.00        P I F       $0.00    \n",
       "...                   ...           ...         ...          ...   \n",
       "899159        $70,000.00         $0.00        P I F       $0.00    \n",
       "899160        $85,000.00         $0.00        P I F       $0.00    \n",
       "899161       $300,000.00         $0.00        P I F       $0.00    \n",
       "899162        $75,000.00         $0.00       CHGOFF  $46,383.00    \n",
       "899163        $30,000.00         $0.00        P I F       $0.00    \n",
       "\n",
       "              GrAppv      SBA_Appv  \n",
       "0        $60,000.00    $48,000.00   \n",
       "1        $40,000.00    $32,000.00   \n",
       "2       $287,000.00   $215,250.00   \n",
       "3        $35,000.00    $28,000.00   \n",
       "4       $229,000.00   $229,000.00   \n",
       "...              ...           ...  \n",
       "899159   $70,000.00    $56,000.00   \n",
       "899160   $85,000.00    $42,500.00   \n",
       "899161  $300,000.00   $225,000.00   \n",
       "899162   $75,000.00    $60,000.00   \n",
       "899163   $30,000.00    $24,000.00   \n",
       "\n",
       "[899164 rows x 27 columns]>"
      ]
     },
     "execution_count": 45,
     "metadata": {},
     "output_type": "execute_result"
    }
   ],
   "source": [
    "data.info"
   ]
  },
  {
   "cell_type": "code",
   "execution_count": 46,
   "id": "16cbef15-e22c-490c-9fb1-6b2e140d6c72",
   "metadata": {},
   "outputs": [
    {
     "data": {
      "text/plain": [
       "LoanNr_ChkDgt             0\n",
       "Name                     14\n",
       "City                     30\n",
       "State                    14\n",
       "Zip                       0\n",
       "Bank                   1559\n",
       "BankState              1566\n",
       "NAICS                     0\n",
       "ApprovalDate              0\n",
       "ApprovalFY                0\n",
       "Term                      0\n",
       "NoEmp                     0\n",
       "NewExist                136\n",
       "CreateJob                 0\n",
       "RetainedJob               0\n",
       "FranchiseCode             0\n",
       "UrbanRural                0\n",
       "RevLineCr              4528\n",
       "LowDoc                 2582\n",
       "ChgOffDate           736465\n",
       "DisbursementDate       2368\n",
       "DisbursementGross         0\n",
       "BalanceGross              0\n",
       "MIS_Status             1997\n",
       "ChgOffPrinGr              0\n",
       "GrAppv                    0\n",
       "SBA_Appv                  0\n",
       "dtype: int64"
      ]
     },
     "execution_count": 46,
     "metadata": {},
     "output_type": "execute_result"
    }
   ],
   "source": [
    "data.isna().sum()"
   ]
  },
  {
   "cell_type": "code",
   "execution_count": 48,
   "id": "319dd78d-9508-4f6f-a6a2-dc8cac45fc7d",
   "metadata": {},
   "outputs": [
    {
     "data": {
      "text/plain": [
       "0              NaN\n",
       "1              NaN\n",
       "2              NaN\n",
       "3              NaN\n",
       "4              NaN\n",
       "            ...   \n",
       "899159         NaN\n",
       "899160         NaN\n",
       "899161         NaN\n",
       "899162    8-Mar-00\n",
       "899163         NaN\n",
       "Name: ChgOffDate, Length: 899164, dtype: object"
      ]
     },
     "execution_count": 48,
     "metadata": {},
     "output_type": "execute_result"
    }
   ],
   "source": [
    "data['ChgOffDate']"
   ]
  },
  {
   "cell_type": "code",
   "execution_count": 50,
   "id": "61b2924d-1487-4be0-91bb-e8ae15ef7771",
   "metadata": {},
   "outputs": [],
   "source": [
    "data1 = data.drop('ChgOffDate', axis = 1)"
   ]
  },
  {
   "cell_type": "code",
   "execution_count": 51,
   "id": "a8f3444f-1c5c-4bc8-8243-5787c4784b85",
   "metadata": {},
   "outputs": [
    {
     "data": {
      "text/plain": [
       "Index(['LoanNr_ChkDgt', 'Name', 'City', 'State', 'Zip', 'Bank', 'BankState',\n",
       "       'NAICS', 'ApprovalDate', 'ApprovalFY', 'Term', 'NoEmp', 'NewExist',\n",
       "       'CreateJob', 'RetainedJob', 'FranchiseCode', 'UrbanRural', 'RevLineCr',\n",
       "       'LowDoc', 'DisbursementDate', 'DisbursementGross', 'BalanceGross',\n",
       "       'MIS_Status', 'ChgOffPrinGr', 'GrAppv', 'SBA_Appv'],\n",
       "      dtype='object')"
      ]
     },
     "execution_count": 51,
     "metadata": {},
     "output_type": "execute_result"
    }
   ],
   "source": [
    "data1.columns"
   ]
  },
  {
   "cell_type": "code",
   "execution_count": 52,
   "id": "58951a1c-8721-423d-badd-6398ea92a46a",
   "metadata": {},
   "outputs": [],
   "source": [
    "def transform_MIS(a):\n",
    "    if a == 'P I F':\n",
    "        return 1\n",
    "    elif a == 'CHGOFF':\n",
    "        return 0"
   ]
  },
  {
   "cell_type": "code",
   "execution_count": 53,
   "id": "f353da05-80b7-4b7f-a7cc-ecc697e528f5",
   "metadata": {},
   "outputs": [],
   "source": [
    "data1['MIS_Status'] = data1['MIS_Status'].transform(transform_MIS)"
   ]
  },
  {
   "cell_type": "code",
   "execution_count": 60,
   "id": "0c83a2dd-1da8-4600-951d-cd67d61a129f",
   "metadata": {},
   "outputs": [],
   "source": [
    "data1 = data1.dropna()"
   ]
  },
  {
   "cell_type": "code",
   "execution_count": 61,
   "id": "11c2ed59-3abc-4d3a-914f-39b6562da98c",
   "metadata": {},
   "outputs": [
    {
     "data": {
      "text/plain": [
       "LoanNr_ChkDgt        0\n",
       "Name                 0\n",
       "City                 0\n",
       "State                0\n",
       "Zip                  0\n",
       "Bank                 0\n",
       "BankState            0\n",
       "NAICS                0\n",
       "ApprovalDate         0\n",
       "ApprovalFY           0\n",
       "Term                 0\n",
       "NoEmp                0\n",
       "NewExist             0\n",
       "CreateJob            0\n",
       "RetainedJob          0\n",
       "FranchiseCode        0\n",
       "UrbanRural           0\n",
       "RevLineCr            0\n",
       "LowDoc               0\n",
       "DisbursementDate     0\n",
       "DisbursementGross    0\n",
       "BalanceGross         0\n",
       "MIS_Status           0\n",
       "ChgOffPrinGr         0\n",
       "GrAppv               0\n",
       "SBA_Appv             0\n",
       "dtype: int64"
      ]
     },
     "execution_count": 61,
     "metadata": {},
     "output_type": "execute_result"
    }
   ],
   "source": [
    "data1.isna().sum()"
   ]
  },
  {
   "cell_type": "code",
   "execution_count": 62,
   "id": "92b80e46-f299-48d1-967c-9283ca474f97",
   "metadata": {},
   "outputs": [
    {
     "name": "stderr",
     "output_type": "stream",
     "text": [
      "C:\\Users\\gurin\\AppData\\Local\\Temp\\ipykernel_3400\\3900520806.py:1: SettingWithCopyWarning: \n",
      "A value is trying to be set on a copy of a slice from a DataFrame.\n",
      "Try using .loc[row_indexer,col_indexer] = value instead\n",
      "\n",
      "See the caveats in the documentation: https://pandas.pydata.org/pandas-docs/stable/user_guide/indexing.html#returning-a-view-versus-a-copy\n",
      "  data1['MIS_Status'] = data1['MIS_Status'].astype(int)\n"
     ]
    }
   ],
   "source": [
    "data1['MIS_Status'] = data1['MIS_Status'].astype(int)"
   ]
  },
  {
   "cell_type": "code",
   "execution_count": 63,
   "id": "ed91583f-110f-4103-aba2-8a6564810405",
   "metadata": {},
   "outputs": [
    {
     "data": {
      "text/plain": [
       "MIS_Status\n",
       "1    730199\n",
       "0    156041\n",
       "Name: count, dtype: int64"
      ]
     },
     "execution_count": 63,
     "metadata": {},
     "output_type": "execute_result"
    }
   ],
   "source": [
    "data1['MIS_Status'].value_counts()"
   ]
  },
  {
   "cell_type": "code",
   "execution_count": 66,
   "id": "b99b20d7-59cb-4a69-b28b-5a1aaa543075",
   "metadata": {},
   "outputs": [
    {
     "data": {
      "text/plain": [
       "FranchiseCode\n",
       "1        631412\n",
       "0        203625\n",
       "78760      3342\n",
       "68020      1917\n",
       "50564      1023\n",
       "          ...  \n",
       "83876         1\n",
       "12545         1\n",
       "68170         1\n",
       "69145         1\n",
       "15930         1\n",
       "Name: count, Length: 2754, dtype: int64"
      ]
     },
     "execution_count": 66,
     "metadata": {},
     "output_type": "execute_result"
    }
   ],
   "source": [
    "data1['FranchiseCode'].value_counts()"
   ]
  },
  {
   "cell_type": "code",
   "execution_count": 68,
   "id": "be258781-0131-49db-a134-c084b99ac336",
   "metadata": {},
   "outputs": [],
   "source": [
    "def transform_FranchiseCode(a):\n",
    "    if a == 0 or a == 1:\n",
    "        return 0\n",
    "    else:\n",
    "        return 1"
   ]
  },
  {
   "cell_type": "code",
   "execution_count": 69,
   "id": "2f3ce0f4-5f12-47e7-8d21-6c595d4e9900",
   "metadata": {},
   "outputs": [
    {
     "name": "stderr",
     "output_type": "stream",
     "text": [
      "C:\\Users\\gurin\\AppData\\Local\\Temp\\ipykernel_3400\\45636641.py:1: SettingWithCopyWarning: \n",
      "A value is trying to be set on a copy of a slice from a DataFrame.\n",
      "Try using .loc[row_indexer,col_indexer] = value instead\n",
      "\n",
      "See the caveats in the documentation: https://pandas.pydata.org/pandas-docs/stable/user_guide/indexing.html#returning-a-view-versus-a-copy\n",
      "  data1['FranchiseCode'] = data1['FranchiseCode'].transform(transform_FranchiseCode)\n"
     ]
    }
   ],
   "source": [
    "data1['FranchiseCode'] = data1['FranchiseCode'].transform(transform_FranchiseCode)"
   ]
  },
  {
   "cell_type": "code",
   "execution_count": 70,
   "id": "becbf8f5-49ff-400f-adf3-4daa76cd4726",
   "metadata": {},
   "outputs": [
    {
     "data": {
      "text/plain": [
       "FranchiseCode\n",
       "0    835037\n",
       "1     51203\n",
       "Name: count, dtype: int64"
      ]
     },
     "execution_count": 70,
     "metadata": {},
     "output_type": "execute_result"
    }
   ],
   "source": [
    "data1['FranchiseCode'].value_counts()"
   ]
  },
  {
   "cell_type": "code",
   "execution_count": 71,
   "id": "6b2f1560-d4c7-4a6c-a755-42c05f52804a",
   "metadata": {},
   "outputs": [
    {
     "name": "stderr",
     "output_type": "stream",
     "text": [
      "C:\\Users\\gurin\\AppData\\Local\\Temp\\ipykernel_3400\\4131837488.py:1: SettingWithCopyWarning: \n",
      "A value is trying to be set on a copy of a slice from a DataFrame.\n",
      "Try using .loc[row_indexer,col_indexer] = value instead\n",
      "\n",
      "See the caveats in the documentation: https://pandas.pydata.org/pandas-docs/stable/user_guide/indexing.html#returning-a-view-versus-a-copy\n",
      "  data1['FranchiseCode'] = data1['FranchiseCode'].astype(int)\n"
     ]
    }
   ],
   "source": [
    "data1['FranchiseCode'] = data1['FranchiseCode'].astype(int)"
   ]
  },
  {
   "cell_type": "code",
   "execution_count": 78,
   "id": "bd5384a6-ddd2-4dae-bf9c-0390f63d5174",
   "metadata": {},
   "outputs": [
    {
     "data": {
      "text/plain": [
       "NAICS\n",
       "0         198267\n",
       "722110     27772\n",
       "722211     19338\n",
       "811111     14392\n",
       "621210     13856\n",
       "           ...  \n",
       "331411         1\n",
       "336414         1\n",
       "311351         1\n",
       "316212         1\n",
       "514190         1\n",
       "Name: count, Length: 1311, dtype: int64"
      ]
     },
     "execution_count": 78,
     "metadata": {},
     "output_type": "execute_result"
    }
   ],
   "source": [
    "data1['NAICS'].value_counts()"
   ]
  },
  {
   "cell_type": "code",
   "execution_count": 79,
   "id": "b61983e8-1d96-4c05-9987-14d2fac103f7",
   "metadata": {},
   "outputs": [],
   "source": [
    "def transform_NAICS(a):\n",
    "    if a == 0:\n",
    "        return 0\n",
    "    else:\n",
    "        return a//10000"
   ]
  },
  {
   "cell_type": "code",
   "execution_count": 80,
   "id": "450bb712-e885-4985-a453-3790d8f243de",
   "metadata": {},
   "outputs": [
    {
     "name": "stderr",
     "output_type": "stream",
     "text": [
      "C:\\Users\\gurin\\AppData\\Local\\Temp\\ipykernel_3400\\2666603370.py:1: SettingWithCopyWarning: \n",
      "A value is trying to be set on a copy of a slice from a DataFrame.\n",
      "Try using .loc[row_indexer,col_indexer] = value instead\n",
      "\n",
      "See the caveats in the documentation: https://pandas.pydata.org/pandas-docs/stable/user_guide/indexing.html#returning-a-view-versus-a-copy\n",
      "  data1['NAICS'] = data1['NAICS'].transform(transform_NAICS)\n"
     ]
    }
   ],
   "source": [
    "data1['NAICS'] = data1['NAICS'].transform(transform_NAICS)"
   ]
  },
  {
   "cell_type": "code",
   "execution_count": 81,
   "id": "4fc66dec-5f2a-4367-899f-34253af83d30",
   "metadata": {},
   "outputs": [
    {
     "data": {
      "text/plain": [
       "NAICS\n",
       "0     198267\n",
       "44     83867\n",
       "81     71754\n",
       "72     67084\n",
       "54     66951\n",
       "23     65635\n",
       "62     54633\n",
       "42     48148\n",
       "45     41895\n",
       "33     37740\n",
       "56     32114\n",
       "48     19955\n",
       "32     17709\n",
       "71     14460\n",
       "53     13457\n",
       "31     11660\n",
       "51     11220\n",
       "52      9378\n",
       "11      8868\n",
       "61      6313\n",
       "49      2180\n",
       "21      1820\n",
       "22       654\n",
       "55       256\n",
       "92       222\n",
       "Name: count, dtype: int64"
      ]
     },
     "execution_count": 81,
     "metadata": {},
     "output_type": "execute_result"
    }
   ],
   "source": [
    "data1['NAICS'].value_counts()"
   ]
  },
  {
   "cell_type": "code",
   "execution_count": 82,
   "id": "823271c2-70ce-4a92-937c-4537d9cfe555",
   "metadata": {},
   "outputs": [
    {
     "data": {
      "text/plain": [
       "(886240, 26)"
      ]
     },
     "execution_count": 82,
     "metadata": {},
     "output_type": "execute_result"
    }
   ],
   "source": [
    "data1.shape"
   ]
  },
  {
   "cell_type": "code",
   "execution_count": 93,
   "id": "8989715e-22cc-4ca7-807c-9353e7d7ac12",
   "metadata": {},
   "outputs": [
    {
     "data": {
      "text/plain": [
       "LoanNr_ChkDgt             0\n",
       "Name                      0\n",
       "City                      0\n",
       "State                     0\n",
       "Zip                       0\n",
       "Bank                      0\n",
       "BankState                 0\n",
       "NAICS                198267\n",
       "ApprovalDate              0\n",
       "ApprovalFY                0\n",
       "Term                      0\n",
       "NoEmp                     0\n",
       "NewExist                  0\n",
       "CreateJob                 0\n",
       "RetainedJob               0\n",
       "FranchiseCode             0\n",
       "UrbanRural                0\n",
       "RevLineCr                 0\n",
       "LowDoc                    0\n",
       "DisbursementDate          0\n",
       "DisbursementGross         0\n",
       "BalanceGross              0\n",
       "MIS_Status                0\n",
       "ChgOffPrinGr              0\n",
       "GrAppv                    0\n",
       "SBA_Appv                  0\n",
       "dtype: int64"
      ]
     },
     "execution_count": 93,
     "metadata": {},
     "output_type": "execute_result"
    }
   ],
   "source": [
    "data1.isna().sum()"
   ]
  },
  {
   "cell_type": "code",
   "execution_count": 94,
   "id": "88c1c654-28e2-49f2-a0dd-0d7bd6903fb6",
   "metadata": {},
   "outputs": [],
   "source": [
    "data1 = data1.dropna()"
   ]
  },
  {
   "cell_type": "code",
   "execution_count": 95,
   "id": "650b6f7c-5fb7-4404-820c-cbe3e55d6862",
   "metadata": {},
   "outputs": [
    {
     "data": {
      "text/plain": [
       "(687973, 26)"
      ]
     },
     "execution_count": 95,
     "metadata": {},
     "output_type": "execute_result"
    }
   ],
   "source": [
    "data1.shape"
   ]
  },
  {
   "cell_type": "code",
   "execution_count": 96,
   "id": "16345c53-e684-489c-9df0-d22ef7943b2b",
   "metadata": {},
   "outputs": [
    {
     "data": {
      "text/plain": [
       "LoanNr_ChkDgt        0\n",
       "Name                 0\n",
       "City                 0\n",
       "State                0\n",
       "Zip                  0\n",
       "Bank                 0\n",
       "BankState            0\n",
       "NAICS                0\n",
       "ApprovalDate         0\n",
       "ApprovalFY           0\n",
       "Term                 0\n",
       "NoEmp                0\n",
       "NewExist             0\n",
       "CreateJob            0\n",
       "RetainedJob          0\n",
       "FranchiseCode        0\n",
       "UrbanRural           0\n",
       "RevLineCr            0\n",
       "LowDoc               0\n",
       "DisbursementDate     0\n",
       "DisbursementGross    0\n",
       "BalanceGross         0\n",
       "MIS_Status           0\n",
       "ChgOffPrinGr         0\n",
       "GrAppv               0\n",
       "SBA_Appv             0\n",
       "dtype: int64"
      ]
     },
     "execution_count": 96,
     "metadata": {},
     "output_type": "execute_result"
    }
   ],
   "source": [
    "data1.isna().sum()"
   ]
  },
  {
   "cell_type": "code",
   "execution_count": 97,
   "id": "75edd098-cba8-4b2e-bb8b-487ec2965572",
   "metadata": {},
   "outputs": [
    {
     "data": {
      "text/plain": [
       "LoanNr_ChkDgt          int64\n",
       "Name                  object\n",
       "City                  object\n",
       "State                 object\n",
       "Zip                    int64\n",
       "Bank                  object\n",
       "BankState             object\n",
       "NAICS                float64\n",
       "ApprovalDate          object\n",
       "ApprovalFY            object\n",
       "Term                   int64\n",
       "NoEmp                  int64\n",
       "NewExist             float64\n",
       "CreateJob              int64\n",
       "RetainedJob            int64\n",
       "FranchiseCode          int32\n",
       "UrbanRural             int64\n",
       "RevLineCr             object\n",
       "LowDoc                object\n",
       "DisbursementDate      object\n",
       "DisbursementGross     object\n",
       "BalanceGross          object\n",
       "MIS_Status             int32\n",
       "ChgOffPrinGr          object\n",
       "GrAppv                object\n",
       "SBA_Appv              object\n",
       "dtype: object"
      ]
     },
     "execution_count": 97,
     "metadata": {},
     "output_type": "execute_result"
    }
   ],
   "source": [
    "data1.dtypes"
   ]
  },
  {
   "cell_type": "code",
   "execution_count": 99,
   "id": "3bca9ba7-3320-4130-bccf-95d869a838db",
   "metadata": {},
   "outputs": [
    {
     "data": {
      "text/html": [
       "<div>\n",
       "<style scoped>\n",
       "    .dataframe tbody tr th:only-of-type {\n",
       "        vertical-align: middle;\n",
       "    }\n",
       "\n",
       "    .dataframe tbody tr th {\n",
       "        vertical-align: top;\n",
       "    }\n",
       "\n",
       "    .dataframe thead th {\n",
       "        text-align: right;\n",
       "    }\n",
       "</style>\n",
       "<table border=\"1\" class=\"dataframe\">\n",
       "  <thead>\n",
       "    <tr style=\"text-align: right;\">\n",
       "      <th></th>\n",
       "      <th>LoanNr_ChkDgt</th>\n",
       "      <th>Zip</th>\n",
       "      <th>NAICS</th>\n",
       "      <th>Term</th>\n",
       "      <th>NoEmp</th>\n",
       "      <th>NewExist</th>\n",
       "      <th>CreateJob</th>\n",
       "      <th>RetainedJob</th>\n",
       "      <th>FranchiseCode</th>\n",
       "      <th>UrbanRural</th>\n",
       "      <th>MIS_Status</th>\n",
       "    </tr>\n",
       "  </thead>\n",
       "  <tbody>\n",
       "    <tr>\n",
       "      <th>count</th>\n",
       "      <td>6.879730e+05</td>\n",
       "      <td>687973.000000</td>\n",
       "      <td>687973.000000</td>\n",
       "      <td>687973.000000</td>\n",
       "      <td>687973.000000</td>\n",
       "      <td>687973.00000</td>\n",
       "      <td>687973.000000</td>\n",
       "      <td>687973.000000</td>\n",
       "      <td>687973.000000</td>\n",
       "      <td>687973.000000</td>\n",
       "      <td>687973.000000</td>\n",
       "    </tr>\n",
       "    <tr>\n",
       "      <th>mean</th>\n",
       "      <td>4.658286e+09</td>\n",
       "      <td>53329.812586</td>\n",
       "      <td>51.103878</td>\n",
       "      <td>102.988891</td>\n",
       "      <td>9.865663</td>\n",
       "      <td>1.27603</td>\n",
       "      <td>2.172312</td>\n",
       "      <td>5.125434</td>\n",
       "      <td>0.050341</td>\n",
       "      <td>0.940198</td>\n",
       "      <td>0.797190</td>\n",
       "    </tr>\n",
       "    <tr>\n",
       "      <th>std</th>\n",
       "      <td>2.465154e+09</td>\n",
       "      <td>31349.220015</td>\n",
       "      <td>17.465120</td>\n",
       "      <td>74.786130</td>\n",
       "      <td>61.547739</td>\n",
       "      <td>0.44939</td>\n",
       "      <td>14.946943</td>\n",
       "      <td>20.727148</td>\n",
       "      <td>0.218647</td>\n",
       "      <td>0.590055</td>\n",
       "      <td>0.402093</td>\n",
       "    </tr>\n",
       "    <tr>\n",
       "      <th>min</th>\n",
       "      <td>1.000014e+09</td>\n",
       "      <td>0.000000</td>\n",
       "      <td>11.000000</td>\n",
       "      <td>0.000000</td>\n",
       "      <td>0.000000</td>\n",
       "      <td>0.00000</td>\n",
       "      <td>0.000000</td>\n",
       "      <td>0.000000</td>\n",
       "      <td>0.000000</td>\n",
       "      <td>0.000000</td>\n",
       "      <td>0.000000</td>\n",
       "    </tr>\n",
       "    <tr>\n",
       "      <th>25%</th>\n",
       "      <td>2.531175e+09</td>\n",
       "      <td>25507.000000</td>\n",
       "      <td>42.000000</td>\n",
       "      <td>60.000000</td>\n",
       "      <td>2.000000</td>\n",
       "      <td>1.00000</td>\n",
       "      <td>0.000000</td>\n",
       "      <td>0.000000</td>\n",
       "      <td>0.000000</td>\n",
       "      <td>1.000000</td>\n",
       "      <td>1.000000</td>\n",
       "    </tr>\n",
       "    <tr>\n",
       "      <th>50%</th>\n",
       "      <td>4.302675e+09</td>\n",
       "      <td>55112.000000</td>\n",
       "      <td>51.000000</td>\n",
       "      <td>84.000000</td>\n",
       "      <td>4.000000</td>\n",
       "      <td>1.00000</td>\n",
       "      <td>0.000000</td>\n",
       "      <td>1.000000</td>\n",
       "      <td>0.000000</td>\n",
       "      <td>1.000000</td>\n",
       "      <td>1.000000</td>\n",
       "    </tr>\n",
       "    <tr>\n",
       "      <th>75%</th>\n",
       "      <td>6.634744e+09</td>\n",
       "      <td>83815.000000</td>\n",
       "      <td>62.000000</td>\n",
       "      <td>120.000000</td>\n",
       "      <td>9.000000</td>\n",
       "      <td>2.00000</td>\n",
       "      <td>2.000000</td>\n",
       "      <td>5.000000</td>\n",
       "      <td>0.000000</td>\n",
       "      <td>1.000000</td>\n",
       "      <td>1.000000</td>\n",
       "    </tr>\n",
       "    <tr>\n",
       "      <th>max</th>\n",
       "      <td>9.995613e+09</td>\n",
       "      <td>99999.000000</td>\n",
       "      <td>92.000000</td>\n",
       "      <td>569.000000</td>\n",
       "      <td>9999.000000</td>\n",
       "      <td>2.00000</td>\n",
       "      <td>5621.000000</td>\n",
       "      <td>9500.000000</td>\n",
       "      <td>1.000000</td>\n",
       "      <td>2.000000</td>\n",
       "      <td>1.000000</td>\n",
       "    </tr>\n",
       "  </tbody>\n",
       "</table>\n",
       "</div>"
      ],
      "text/plain": [
       "       LoanNr_ChkDgt            Zip          NAICS           Term  \\\n",
       "count   6.879730e+05  687973.000000  687973.000000  687973.000000   \n",
       "mean    4.658286e+09   53329.812586      51.103878     102.988891   \n",
       "std     2.465154e+09   31349.220015      17.465120      74.786130   \n",
       "min     1.000014e+09       0.000000      11.000000       0.000000   \n",
       "25%     2.531175e+09   25507.000000      42.000000      60.000000   \n",
       "50%     4.302675e+09   55112.000000      51.000000      84.000000   \n",
       "75%     6.634744e+09   83815.000000      62.000000     120.000000   \n",
       "max     9.995613e+09   99999.000000      92.000000     569.000000   \n",
       "\n",
       "               NoEmp      NewExist      CreateJob    RetainedJob  \\\n",
       "count  687973.000000  687973.00000  687973.000000  687973.000000   \n",
       "mean        9.865663       1.27603       2.172312       5.125434   \n",
       "std        61.547739       0.44939      14.946943      20.727148   \n",
       "min         0.000000       0.00000       0.000000       0.000000   \n",
       "25%         2.000000       1.00000       0.000000       0.000000   \n",
       "50%         4.000000       1.00000       0.000000       1.000000   \n",
       "75%         9.000000       2.00000       2.000000       5.000000   \n",
       "max      9999.000000       2.00000    5621.000000    9500.000000   \n",
       "\n",
       "       FranchiseCode     UrbanRural     MIS_Status  \n",
       "count  687973.000000  687973.000000  687973.000000  \n",
       "mean        0.050341       0.940198       0.797190  \n",
       "std         0.218647       0.590055       0.402093  \n",
       "min         0.000000       0.000000       0.000000  \n",
       "25%         0.000000       1.000000       1.000000  \n",
       "50%         0.000000       1.000000       1.000000  \n",
       "75%         0.000000       1.000000       1.000000  \n",
       "max         1.000000       2.000000       1.000000  "
      ]
     },
     "execution_count": 99,
     "metadata": {},
     "output_type": "execute_result"
    }
   ],
   "source": [
    "data1.describe()"
   ]
  },
  {
   "cell_type": "code",
   "execution_count": 109,
   "id": "186855a9-6fb3-4c5b-a228-0a9b08d722f6",
   "metadata": {},
   "outputs": [],
   "source": [
    "def transform_currency(a):\n",
    "    a = a.replace(\"$\",\"\")\n",
    "    a = a.replace(\",\",\"\")\n",
    "    return a"
   ]
  },
  {
   "cell_type": "code",
   "execution_count": 110,
   "id": "e358c813-c557-413e-8130-a2cdf4febc01",
   "metadata": {},
   "outputs": [
    {
     "name": "stderr",
     "output_type": "stream",
     "text": [
      "C:\\Users\\gurin\\AppData\\Local\\Temp\\ipykernel_3400\\2743896519.py:1: SettingWithCopyWarning: \n",
      "A value is trying to be set on a copy of a slice from a DataFrame.\n",
      "Try using .loc[row_indexer,col_indexer] = value instead\n",
      "\n",
      "See the caveats in the documentation: https://pandas.pydata.org/pandas-docs/stable/user_guide/indexing.html#returning-a-view-versus-a-copy\n",
      "  data1['BalanceGross'] = data1['BalanceGross'].transform(transform_currency)\n"
     ]
    }
   ],
   "source": [
    "data1['BalanceGross'] = data1['BalanceGross'].transform(transform_currency)"
   ]
  },
  {
   "cell_type": "code",
   "execution_count": 111,
   "id": "dc20a2f2-3b25-40fc-a6a8-6f65031b466c",
   "metadata": {},
   "outputs": [
    {
     "name": "stderr",
     "output_type": "stream",
     "text": [
      "C:\\Users\\gurin\\AppData\\Local\\Temp\\ipykernel_3400\\186187807.py:1: SettingWithCopyWarning: \n",
      "A value is trying to be set on a copy of a slice from a DataFrame.\n",
      "Try using .loc[row_indexer,col_indexer] = value instead\n",
      "\n",
      "See the caveats in the documentation: https://pandas.pydata.org/pandas-docs/stable/user_guide/indexing.html#returning-a-view-versus-a-copy\n",
      "  data1['BalanceGross'] = data1['BalanceGross'].astype(float)\n"
     ]
    }
   ],
   "source": [
    "data1['BalanceGross'] = data1['BalanceGross'].astype(float)"
   ]
  },
  {
   "cell_type": "code",
   "execution_count": 112,
   "id": "cf5bc042-b036-4a79-9af6-05160654cf6a",
   "metadata": {},
   "outputs": [
    {
     "name": "stderr",
     "output_type": "stream",
     "text": [
      "C:\\Users\\gurin\\AppData\\Local\\Temp\\ipykernel_3400\\3537149936.py:1: SettingWithCopyWarning: \n",
      "A value is trying to be set on a copy of a slice from a DataFrame.\n",
      "Try using .loc[row_indexer,col_indexer] = value instead\n",
      "\n",
      "See the caveats in the documentation: https://pandas.pydata.org/pandas-docs/stable/user_guide/indexing.html#returning-a-view-versus-a-copy\n",
      "  data1['DisbursementGross'] = data1['DisbursementGross'].transform(transform_currency)\n",
      "C:\\Users\\gurin\\AppData\\Local\\Temp\\ipykernel_3400\\3537149936.py:2: SettingWithCopyWarning: \n",
      "A value is trying to be set on a copy of a slice from a DataFrame.\n",
      "Try using .loc[row_indexer,col_indexer] = value instead\n",
      "\n",
      "See the caveats in the documentation: https://pandas.pydata.org/pandas-docs/stable/user_guide/indexing.html#returning-a-view-versus-a-copy\n",
      "  data1['GrAppv'] = data1['GrAppv'].transform(transform_currency)\n",
      "C:\\Users\\gurin\\AppData\\Local\\Temp\\ipykernel_3400\\3537149936.py:3: SettingWithCopyWarning: \n",
      "A value is trying to be set on a copy of a slice from a DataFrame.\n",
      "Try using .loc[row_indexer,col_indexer] = value instead\n",
      "\n",
      "See the caveats in the documentation: https://pandas.pydata.org/pandas-docs/stable/user_guide/indexing.html#returning-a-view-versus-a-copy\n",
      "  data1['SBA_Appv'] = data1['SBA_Appv'].transform(transform_currency)\n",
      "C:\\Users\\gurin\\AppData\\Local\\Temp\\ipykernel_3400\\3537149936.py:4: SettingWithCopyWarning: \n",
      "A value is trying to be set on a copy of a slice from a DataFrame.\n",
      "Try using .loc[row_indexer,col_indexer] = value instead\n",
      "\n",
      "See the caveats in the documentation: https://pandas.pydata.org/pandas-docs/stable/user_guide/indexing.html#returning-a-view-versus-a-copy\n",
      "  data1['ChgOffPrinGr'] = data1['ChgOffPrinGr'].transform(transform_currency)\n"
     ]
    }
   ],
   "source": [
    "data1['DisbursementGross'] = data1['DisbursementGross'].transform(transform_currency)\n",
    "data1['GrAppv'] = data1['GrAppv'].transform(transform_currency)\n",
    "data1['SBA_Appv'] = data1['SBA_Appv'].transform(transform_currency) \n",
    "data1['ChgOffPrinGr'] = data1['ChgOffPrinGr'].transform(transform_currency)"
   ]
  },
  {
   "cell_type": "code",
   "execution_count": 113,
   "id": "db026a36-86cf-49b1-82bc-81d7c2dd6a08",
   "metadata": {},
   "outputs": [
    {
     "name": "stderr",
     "output_type": "stream",
     "text": [
      "C:\\Users\\gurin\\AppData\\Local\\Temp\\ipykernel_3400\\291270994.py:1: SettingWithCopyWarning: \n",
      "A value is trying to be set on a copy of a slice from a DataFrame.\n",
      "Try using .loc[row_indexer,col_indexer] = value instead\n",
      "\n",
      "See the caveats in the documentation: https://pandas.pydata.org/pandas-docs/stable/user_guide/indexing.html#returning-a-view-versus-a-copy\n",
      "  data1['DisbursementGross'] = data1['DisbursementGross'].astype('float')\n",
      "C:\\Users\\gurin\\AppData\\Local\\Temp\\ipykernel_3400\\291270994.py:2: SettingWithCopyWarning: \n",
      "A value is trying to be set on a copy of a slice from a DataFrame.\n",
      "Try using .loc[row_indexer,col_indexer] = value instead\n",
      "\n",
      "See the caveats in the documentation: https://pandas.pydata.org/pandas-docs/stable/user_guide/indexing.html#returning-a-view-versus-a-copy\n",
      "  data1['GrAppv'] = data1['GrAppv'].astype('float')\n",
      "C:\\Users\\gurin\\AppData\\Local\\Temp\\ipykernel_3400\\291270994.py:3: SettingWithCopyWarning: \n",
      "A value is trying to be set on a copy of a slice from a DataFrame.\n",
      "Try using .loc[row_indexer,col_indexer] = value instead\n",
      "\n",
      "See the caveats in the documentation: https://pandas.pydata.org/pandas-docs/stable/user_guide/indexing.html#returning-a-view-versus-a-copy\n",
      "  data1['SBA_Appv'] = data1['SBA_Appv'].astype('float')\n",
      "C:\\Users\\gurin\\AppData\\Local\\Temp\\ipykernel_3400\\291270994.py:4: SettingWithCopyWarning: \n",
      "A value is trying to be set on a copy of a slice from a DataFrame.\n",
      "Try using .loc[row_indexer,col_indexer] = value instead\n",
      "\n",
      "See the caveats in the documentation: https://pandas.pydata.org/pandas-docs/stable/user_guide/indexing.html#returning-a-view-versus-a-copy\n",
      "  data1['ChgOffPrinGr'] = data1['ChgOffPrinGr'].astype('float')\n"
     ]
    }
   ],
   "source": [
    "data1['DisbursementGross'] = data1['DisbursementGross'].astype('float')\n",
    "data1['GrAppv'] = data1['GrAppv'].astype('float')\n",
    "data1['SBA_Appv'] = data1['SBA_Appv'].astype('float')\n",
    "data1['ChgOffPrinGr'] = data1['ChgOffPrinGr'].astype('float')"
   ]
  },
  {
   "cell_type": "code",
   "execution_count": 115,
   "id": "60b560fe-3af5-4ed1-8a01-120dd3b07ebc",
   "metadata": {},
   "outputs": [
    {
     "data": {
      "text/plain": [
       "LoanNr_ChkDgt          int64\n",
       "Name                  object\n",
       "City                  object\n",
       "State                 object\n",
       "Zip                    int64\n",
       "Bank                  object\n",
       "BankState             object\n",
       "NAICS                float64\n",
       "ApprovalDate          object\n",
       "ApprovalFY            object\n",
       "Term                   int64\n",
       "NoEmp                  int64\n",
       "NewExist             float64\n",
       "CreateJob              int64\n",
       "RetainedJob            int64\n",
       "FranchiseCode          int32\n",
       "UrbanRural             int64\n",
       "RevLineCr             object\n",
       "LowDoc                object\n",
       "DisbursementDate      object\n",
       "DisbursementGross    float64\n",
       "BalanceGross         float64\n",
       "MIS_Status             int32\n",
       "ChgOffPrinGr         float64\n",
       "GrAppv               float64\n",
       "SBA_Appv             float64\n",
       "dtype: object"
      ]
     },
     "execution_count": 115,
     "metadata": {},
     "output_type": "execute_result"
    }
   ],
   "source": [
    "data1.dtypes"
   ]
  },
  {
   "cell_type": "code",
   "execution_count": 116,
   "id": "2a0b2c26-874c-4bf0-976c-067be3bea0b6",
   "metadata": {},
   "outputs": [
    {
     "name": "stderr",
     "output_type": "stream",
     "text": [
      "C:\\Users\\gurin\\AppData\\Local\\Temp\\ipykernel_3400\\2427946999.py:1: SettingWithCopyWarning: \n",
      "A value is trying to be set on a copy of a slice from a DataFrame.\n",
      "Try using .loc[row_indexer,col_indexer] = value instead\n",
      "\n",
      "See the caveats in the documentation: https://pandas.pydata.org/pandas-docs/stable/user_guide/indexing.html#returning-a-view-versus-a-copy\n",
      "  data1['ApprovalFY'] = data1['ApprovalFY'].astype(int)\n"
     ]
    }
   ],
   "source": [
    "data1['ApprovalFY'] = data1['ApprovalFY'].astype(int)"
   ]
  },
  {
   "cell_type": "code",
   "execution_count": 117,
   "id": "fb8f1c39-7099-47da-9673-1b9c71829dca",
   "metadata": {},
   "outputs": [
    {
     "data": {
      "text/plain": [
       "LowDoc\n",
       "N    619435\n",
       "Y     66204\n",
       "C       617\n",
       "S       598\n",
       "0       552\n",
       "A       492\n",
       "R        74\n",
       "1         1\n",
       "Name: count, dtype: int64"
      ]
     },
     "execution_count": 117,
     "metadata": {},
     "output_type": "execute_result"
    }
   ],
   "source": [
    "data1['LowDoc'].value_counts()"
   ]
  },
  {
   "cell_type": "code",
   "execution_count": 119,
   "id": "f6720c48-4683-41da-961f-c2f5b3cc56c1",
   "metadata": {},
   "outputs": [],
   "source": [
    "def transform_lowdoc(a):\n",
    "    if a == 'Y':\n",
    "        return 1\n",
    "    elif a == 'N':\n",
    "        return 0"
   ]
  },
  {
   "cell_type": "code",
   "execution_count": 120,
   "id": "740d0186-a653-4ebd-9603-698873a98ddf",
   "metadata": {},
   "outputs": [
    {
     "name": "stderr",
     "output_type": "stream",
     "text": [
      "C:\\Users\\gurin\\AppData\\Local\\Temp\\ipykernel_3400\\1623637513.py:1: SettingWithCopyWarning: \n",
      "A value is trying to be set on a copy of a slice from a DataFrame.\n",
      "Try using .loc[row_indexer,col_indexer] = value instead\n",
      "\n",
      "See the caveats in the documentation: https://pandas.pydata.org/pandas-docs/stable/user_guide/indexing.html#returning-a-view-versus-a-copy\n",
      "  data1['LowDoc'] = data1['LowDoc'].transform(transform_lowdoc)\n"
     ]
    }
   ],
   "source": [
    "data1['LowDoc'] = data1['LowDoc'].transform(transform_lowdoc)"
   ]
  },
  {
   "cell_type": "code",
   "execution_count": 122,
   "id": "25510d61-e106-455d-acc2-41d45713c843",
   "metadata": {},
   "outputs": [
    {
     "data": {
      "text/plain": [
       "LowDoc\n",
       "0.0    619435\n",
       "1.0     66204\n",
       "Name: count, dtype: int64"
      ]
     },
     "execution_count": 122,
     "metadata": {},
     "output_type": "execute_result"
    }
   ],
   "source": [
    "data1['LowDoc'].value_counts()"
   ]
  },
  {
   "cell_type": "code",
   "execution_count": 123,
   "id": "26cfa3b7-0311-4a93-9f3a-070f0103ca1e",
   "metadata": {},
   "outputs": [
    {
     "data": {
      "text/plain": [
       "LoanNr_ChkDgt           0\n",
       "Name                    0\n",
       "City                    0\n",
       "State                   0\n",
       "Zip                     0\n",
       "Bank                    0\n",
       "BankState               0\n",
       "NAICS                   0\n",
       "ApprovalDate            0\n",
       "ApprovalFY              0\n",
       "Term                    0\n",
       "NoEmp                   0\n",
       "NewExist                0\n",
       "CreateJob               0\n",
       "RetainedJob             0\n",
       "FranchiseCode           0\n",
       "UrbanRural              0\n",
       "RevLineCr               0\n",
       "LowDoc               2334\n",
       "DisbursementDate        0\n",
       "DisbursementGross       0\n",
       "BalanceGross            0\n",
       "MIS_Status              0\n",
       "ChgOffPrinGr            0\n",
       "GrAppv                  0\n",
       "SBA_Appv                0\n",
       "dtype: int64"
      ]
     },
     "execution_count": 123,
     "metadata": {},
     "output_type": "execute_result"
    }
   ],
   "source": [
    "data1.isna().sum()"
   ]
  },
  {
   "cell_type": "code",
   "execution_count": 124,
   "id": "c3f820b2-f4c4-4384-ac14-d3e3a2d62076",
   "metadata": {},
   "outputs": [],
   "source": [
    "data1 = data1.dropna()"
   ]
  },
  {
   "cell_type": "code",
   "execution_count": 125,
   "id": "588c695f-f44d-4578-a07a-6f34641971f6",
   "metadata": {},
   "outputs": [
    {
     "data": {
      "text/plain": [
       "LoanNr_ChkDgt        0\n",
       "Name                 0\n",
       "City                 0\n",
       "State                0\n",
       "Zip                  0\n",
       "Bank                 0\n",
       "BankState            0\n",
       "NAICS                0\n",
       "ApprovalDate         0\n",
       "ApprovalFY           0\n",
       "Term                 0\n",
       "NoEmp                0\n",
       "NewExist             0\n",
       "CreateJob            0\n",
       "RetainedJob          0\n",
       "FranchiseCode        0\n",
       "UrbanRural           0\n",
       "RevLineCr            0\n",
       "LowDoc               0\n",
       "DisbursementDate     0\n",
       "DisbursementGross    0\n",
       "BalanceGross         0\n",
       "MIS_Status           0\n",
       "ChgOffPrinGr         0\n",
       "GrAppv               0\n",
       "SBA_Appv             0\n",
       "dtype: int64"
      ]
     },
     "execution_count": 125,
     "metadata": {},
     "output_type": "execute_result"
    }
   ],
   "source": [
    "data1.isna().sum()"
   ]
  },
  {
   "cell_type": "code",
   "execution_count": 127,
   "id": "981c5e59-9513-413a-83df-38a9f83d7492",
   "metadata": {},
   "outputs": [
    {
     "data": {
      "text/plain": [
       "(685639, 26)"
      ]
     },
     "execution_count": 127,
     "metadata": {},
     "output_type": "execute_result"
    }
   ],
   "source": [
    "data1.shape"
   ]
  },
  {
   "cell_type": "code",
   "execution_count": 128,
   "id": "6e8bb00e-318c-4ac1-8677-48dd22f46d9f",
   "metadata": {},
   "outputs": [
    {
     "data": {
      "text/plain": [
       "MIS_Status\n",
       "1    546636\n",
       "0    139003\n",
       "Name: count, dtype: int64"
      ]
     },
     "execution_count": 128,
     "metadata": {},
     "output_type": "execute_result"
    }
   ],
   "source": [
    "data1['MIS_Status'].value_counts()"
   ]
  },
  {
   "cell_type": "code",
   "execution_count": 129,
   "id": "4239c86e-8c39-4389-82c0-fc4b49b6ece7",
   "metadata": {},
   "outputs": [
    {
     "data": {
      "text/plain": [
       "RevLineCr\n",
       "N    265651\n",
       "0    213490\n",
       "Y    191968\n",
       "T     14484\n",
       "1        15\n",
       "R        14\n",
       "`         5\n",
       "2         5\n",
       "C         2\n",
       ",         1\n",
       "7         1\n",
       "A         1\n",
       "-         1\n",
       "Q         1\n",
       "Name: count, dtype: int64"
      ]
     },
     "execution_count": 129,
     "metadata": {},
     "output_type": "execute_result"
    }
   ],
   "source": [
    "data1['RevLineCr'].value_counts()"
   ]
  },
  {
   "cell_type": "code",
   "execution_count": 130,
   "id": "d490c021-7785-4d96-b3d2-3f2fa792f762",
   "metadata": {},
   "outputs": [],
   "source": [
    "def transform_rev(a):\n",
    "    if a == 'Y':\n",
    "        return 1\n",
    "    elif a =='N':\n",
    "        return 0\n",
    "    elif a == 0:\n",
    "        return 0\n",
    "    elif a == 1:\n",
    "        return 1\n"
   ]
  },
  {
   "cell_type": "code",
   "execution_count": 131,
   "id": "caf254da-7cee-494a-b2fa-5cee9a6cf217",
   "metadata": {},
   "outputs": [
    {
     "name": "stderr",
     "output_type": "stream",
     "text": [
      "C:\\Users\\gurin\\AppData\\Local\\Temp\\ipykernel_3400\\314814003.py:1: SettingWithCopyWarning: \n",
      "A value is trying to be set on a copy of a slice from a DataFrame.\n",
      "Try using .loc[row_indexer,col_indexer] = value instead\n",
      "\n",
      "See the caveats in the documentation: https://pandas.pydata.org/pandas-docs/stable/user_guide/indexing.html#returning-a-view-versus-a-copy\n",
      "  data1['RevLineCr'] = data1['RevLineCr'].transform(transform_rev)\n"
     ]
    }
   ],
   "source": [
    "data1['RevLineCr'] = data1['RevLineCr'].transform(transform_rev)"
   ]
  },
  {
   "cell_type": "code",
   "execution_count": 132,
   "id": "8bf003f0-d42e-4be5-91ca-e7cea7e568e5",
   "metadata": {},
   "outputs": [
    {
     "data": {
      "text/plain": [
       "LoanNr_ChkDgt             0\n",
       "Name                      0\n",
       "City                      0\n",
       "State                     0\n",
       "Zip                       0\n",
       "Bank                      0\n",
       "BankState                 0\n",
       "NAICS                     0\n",
       "ApprovalDate              0\n",
       "ApprovalFY                0\n",
       "Term                      0\n",
       "NoEmp                     0\n",
       "NewExist                  0\n",
       "CreateJob                 0\n",
       "RetainedJob               0\n",
       "FranchiseCode             0\n",
       "UrbanRural                0\n",
       "RevLineCr            228020\n",
       "LowDoc                    0\n",
       "DisbursementDate          0\n",
       "DisbursementGross         0\n",
       "BalanceGross              0\n",
       "MIS_Status                0\n",
       "ChgOffPrinGr              0\n",
       "GrAppv                    0\n",
       "SBA_Appv                  0\n",
       "dtype: int64"
      ]
     },
     "execution_count": 132,
     "metadata": {},
     "output_type": "execute_result"
    }
   ],
   "source": [
    "data1.isna().sum()"
   ]
  },
  {
   "cell_type": "code",
   "execution_count": 134,
   "id": "94aa41f6-1669-45f3-84d3-0cc9d90c15b4",
   "metadata": {},
   "outputs": [],
   "source": [
    "data1 = data1.dropna()"
   ]
  },
  {
   "cell_type": "code",
   "execution_count": 135,
   "id": "266708b1-6d94-47f9-968b-18216bbdae37",
   "metadata": {},
   "outputs": [
    {
     "data": {
      "text/plain": [
       "(457619, 26)"
      ]
     },
     "execution_count": 135,
     "metadata": {},
     "output_type": "execute_result"
    }
   ],
   "source": [
    "data1.shape"
   ]
  },
  {
   "cell_type": "code",
   "execution_count": 138,
   "id": "87bcaec5-34c0-49d2-9608-9735856f8ec7",
   "metadata": {},
   "outputs": [
    {
     "data": {
      "text/plain": [
       "LoanNr_ChkDgt          int64\n",
       "Name                  object\n",
       "City                  object\n",
       "State                 object\n",
       "Zip                    int64\n",
       "Bank                  object\n",
       "BankState             object\n",
       "NAICS                float64\n",
       "ApprovalDate          object\n",
       "ApprovalFY             int32\n",
       "Term                   int64\n",
       "NoEmp                  int64\n",
       "NewExist             float64\n",
       "CreateJob              int64\n",
       "RetainedJob            int64\n",
       "FranchiseCode          int32\n",
       "UrbanRural             int64\n",
       "RevLineCr            float64\n",
       "LowDoc               float64\n",
       "DisbursementDate      object\n",
       "DisbursementGross    float64\n",
       "BalanceGross         float64\n",
       "MIS_Status             int32\n",
       "ChgOffPrinGr         float64\n",
       "GrAppv               float64\n",
       "SBA_Appv             float64\n",
       "dtype: object"
      ]
     },
     "execution_count": 138,
     "metadata": {},
     "output_type": "execute_result"
    }
   ],
   "source": [
    "data1.dtypes"
   ]
  },
  {
   "cell_type": "code",
   "execution_count": 139,
   "id": "2f662252-d5a4-476b-8cc3-629ad5a92925",
   "metadata": {},
   "outputs": [],
   "source": [
    "data1['RevLineCr'] = data1['RevLineCr'].astype(int)\n",
    "data1['LowDoc'] = data1['LowDoc'].astype(int)"
   ]
  },
  {
   "cell_type": "code",
   "execution_count": 140,
   "id": "953a07c2-f97e-447d-899f-bd8bb05102bd",
   "metadata": {},
   "outputs": [
    {
     "data": {
      "text/html": [
       "<div>\n",
       "<style scoped>\n",
       "    .dataframe tbody tr th:only-of-type {\n",
       "        vertical-align: middle;\n",
       "    }\n",
       "\n",
       "    .dataframe tbody tr th {\n",
       "        vertical-align: top;\n",
       "    }\n",
       "\n",
       "    .dataframe thead th {\n",
       "        text-align: right;\n",
       "    }\n",
       "</style>\n",
       "<table border=\"1\" class=\"dataframe\">\n",
       "  <thead>\n",
       "    <tr style=\"text-align: right;\">\n",
       "      <th></th>\n",
       "      <th>LoanNr_ChkDgt</th>\n",
       "      <th>Zip</th>\n",
       "      <th>NAICS</th>\n",
       "      <th>ApprovalFY</th>\n",
       "      <th>Term</th>\n",
       "      <th>NoEmp</th>\n",
       "      <th>NewExist</th>\n",
       "      <th>CreateJob</th>\n",
       "      <th>RetainedJob</th>\n",
       "      <th>FranchiseCode</th>\n",
       "      <th>UrbanRural</th>\n",
       "      <th>RevLineCr</th>\n",
       "      <th>LowDoc</th>\n",
       "      <th>DisbursementGross</th>\n",
       "      <th>BalanceGross</th>\n",
       "      <th>MIS_Status</th>\n",
       "      <th>ChgOffPrinGr</th>\n",
       "      <th>GrAppv</th>\n",
       "      <th>SBA_Appv</th>\n",
       "    </tr>\n",
       "  </thead>\n",
       "  <tbody>\n",
       "    <tr>\n",
       "      <th>count</th>\n",
       "      <td>4.576190e+05</td>\n",
       "      <td>457619.000000</td>\n",
       "      <td>457619.000000</td>\n",
       "      <td>457619.000000</td>\n",
       "      <td>457619.000000</td>\n",
       "      <td>457619.000000</td>\n",
       "      <td>457619.000000</td>\n",
       "      <td>457619.000000</td>\n",
       "      <td>457619.000000</td>\n",
       "      <td>457619.000000</td>\n",
       "      <td>457619.00000</td>\n",
       "      <td>457619.000000</td>\n",
       "      <td>457619.000000</td>\n",
       "      <td>4.576190e+05</td>\n",
       "      <td>457619.000000</td>\n",
       "      <td>457619.000000</td>\n",
       "      <td>4.576190e+05</td>\n",
       "      <td>4.576190e+05</td>\n",
       "      <td>4.576190e+05</td>\n",
       "    </tr>\n",
       "    <tr>\n",
       "      <th>mean</th>\n",
       "      <td>4.288988e+09</td>\n",
       "      <td>52088.839808</td>\n",
       "      <td>49.861109</td>\n",
       "      <td>2003.016890</td>\n",
       "      <td>93.891117</td>\n",
       "      <td>9.915323</td>\n",
       "      <td>1.263184</td>\n",
       "      <td>1.904383</td>\n",
       "      <td>4.778420</td>\n",
       "      <td>0.031260</td>\n",
       "      <td>0.90059</td>\n",
       "      <td>0.419493</td>\n",
       "      <td>0.054967</td>\n",
       "      <td>1.724434e+05</td>\n",
       "      <td>4.404846</td>\n",
       "      <td>0.784937</td>\n",
       "      <td>1.292664e+04</td>\n",
       "      <td>1.545250e+05</td>\n",
       "      <td>1.174789e+05</td>\n",
       "    </tr>\n",
       "    <tr>\n",
       "      <th>std</th>\n",
       "      <td>2.417293e+09</td>\n",
       "      <td>31345.211297</td>\n",
       "      <td>17.455006</td>\n",
       "      <td>5.656123</td>\n",
       "      <td>68.427708</td>\n",
       "      <td>57.254776</td>\n",
       "      <td>0.443719</td>\n",
       "      <td>16.901417</td>\n",
       "      <td>15.688928</td>\n",
       "      <td>0.174019</td>\n",
       "      <td>0.60448</td>\n",
       "      <td>0.493477</td>\n",
       "      <td>0.227916</td>\n",
       "      <td>2.753099e+05</td>\n",
       "      <td>1921.119374</td>\n",
       "      <td>0.410867</td>\n",
       "      <td>5.807505e+04</td>\n",
       "      <td>2.615796e+05</td>\n",
       "      <td>2.144154e+05</td>\n",
       "    </tr>\n",
       "    <tr>\n",
       "      <th>min</th>\n",
       "      <td>1.000014e+09</td>\n",
       "      <td>0.000000</td>\n",
       "      <td>11.000000</td>\n",
       "      <td>1984.000000</td>\n",
       "      <td>0.000000</td>\n",
       "      <td>0.000000</td>\n",
       "      <td>0.000000</td>\n",
       "      <td>0.000000</td>\n",
       "      <td>0.000000</td>\n",
       "      <td>0.000000</td>\n",
       "      <td>0.00000</td>\n",
       "      <td>0.000000</td>\n",
       "      <td>0.000000</td>\n",
       "      <td>4.000000e+03</td>\n",
       "      <td>0.000000</td>\n",
       "      <td>0.000000</td>\n",
       "      <td>0.000000e+00</td>\n",
       "      <td>1.000000e+03</td>\n",
       "      <td>5.000000e+02</td>\n",
       "    </tr>\n",
       "    <tr>\n",
       "      <th>25%</th>\n",
       "      <td>2.256810e+09</td>\n",
       "      <td>22102.000000</td>\n",
       "      <td>42.000000</td>\n",
       "      <td>2000.000000</td>\n",
       "      <td>59.000000</td>\n",
       "      <td>2.000000</td>\n",
       "      <td>1.000000</td>\n",
       "      <td>0.000000</td>\n",
       "      <td>0.000000</td>\n",
       "      <td>0.000000</td>\n",
       "      <td>1.00000</td>\n",
       "      <td>0.000000</td>\n",
       "      <td>0.000000</td>\n",
       "      <td>3.500000e+04</td>\n",
       "      <td>0.000000</td>\n",
       "      <td>1.000000</td>\n",
       "      <td>0.000000e+00</td>\n",
       "      <td>2.500000e+04</td>\n",
       "      <td>1.275000e+04</td>\n",
       "    </tr>\n",
       "    <tr>\n",
       "      <th>50%</th>\n",
       "      <td>3.696256e+09</td>\n",
       "      <td>53223.000000</td>\n",
       "      <td>48.000000</td>\n",
       "      <td>2005.000000</td>\n",
       "      <td>84.000000</td>\n",
       "      <td>4.000000</td>\n",
       "      <td>1.000000</td>\n",
       "      <td>0.000000</td>\n",
       "      <td>1.000000</td>\n",
       "      <td>0.000000</td>\n",
       "      <td>1.00000</td>\n",
       "      <td>0.000000</td>\n",
       "      <td>0.000000</td>\n",
       "      <td>7.600000e+04</td>\n",
       "      <td>0.000000</td>\n",
       "      <td>1.000000</td>\n",
       "      <td>0.000000e+00</td>\n",
       "      <td>5.000000e+04</td>\n",
       "      <td>3.500000e+04</td>\n",
       "    </tr>\n",
       "    <tr>\n",
       "      <th>75%</th>\n",
       "      <td>6.094618e+09</td>\n",
       "      <td>82414.000000</td>\n",
       "      <td>62.000000</td>\n",
       "      <td>2007.000000</td>\n",
       "      <td>90.000000</td>\n",
       "      <td>9.000000</td>\n",
       "      <td>2.000000</td>\n",
       "      <td>1.000000</td>\n",
       "      <td>5.000000</td>\n",
       "      <td>0.000000</td>\n",
       "      <td>1.00000</td>\n",
       "      <td>1.000000</td>\n",
       "      <td>0.000000</td>\n",
       "      <td>1.930000e+05</td>\n",
       "      <td>0.000000</td>\n",
       "      <td>1.000000</td>\n",
       "      <td>0.000000e+00</td>\n",
       "      <td>1.580000e+05</td>\n",
       "      <td>1.250000e+05</td>\n",
       "    </tr>\n",
       "    <tr>\n",
       "      <th>max</th>\n",
       "      <td>9.995613e+09</td>\n",
       "      <td>99999.000000</td>\n",
       "      <td>92.000000</td>\n",
       "      <td>2014.000000</td>\n",
       "      <td>527.000000</td>\n",
       "      <td>9999.000000</td>\n",
       "      <td>2.000000</td>\n",
       "      <td>5621.000000</td>\n",
       "      <td>4441.000000</td>\n",
       "      <td>1.000000</td>\n",
       "      <td>2.00000</td>\n",
       "      <td>1.000000</td>\n",
       "      <td>1.000000</td>\n",
       "      <td>1.144632e+07</td>\n",
       "      <td>996262.000000</td>\n",
       "      <td>1.000000</td>\n",
       "      <td>3.512596e+06</td>\n",
       "      <td>5.000000e+06</td>\n",
       "      <td>4.500000e+06</td>\n",
       "    </tr>\n",
       "  </tbody>\n",
       "</table>\n",
       "</div>"
      ],
      "text/plain": [
       "       LoanNr_ChkDgt            Zip          NAICS     ApprovalFY  \\\n",
       "count   4.576190e+05  457619.000000  457619.000000  457619.000000   \n",
       "mean    4.288988e+09   52088.839808      49.861109    2003.016890   \n",
       "std     2.417293e+09   31345.211297      17.455006       5.656123   \n",
       "min     1.000014e+09       0.000000      11.000000    1984.000000   \n",
       "25%     2.256810e+09   22102.000000      42.000000    2000.000000   \n",
       "50%     3.696256e+09   53223.000000      48.000000    2005.000000   \n",
       "75%     6.094618e+09   82414.000000      62.000000    2007.000000   \n",
       "max     9.995613e+09   99999.000000      92.000000    2014.000000   \n",
       "\n",
       "                Term          NoEmp       NewExist      CreateJob  \\\n",
       "count  457619.000000  457619.000000  457619.000000  457619.000000   \n",
       "mean       93.891117       9.915323       1.263184       1.904383   \n",
       "std        68.427708      57.254776       0.443719      16.901417   \n",
       "min         0.000000       0.000000       0.000000       0.000000   \n",
       "25%        59.000000       2.000000       1.000000       0.000000   \n",
       "50%        84.000000       4.000000       1.000000       0.000000   \n",
       "75%        90.000000       9.000000       2.000000       1.000000   \n",
       "max       527.000000    9999.000000       2.000000    5621.000000   \n",
       "\n",
       "         RetainedJob  FranchiseCode    UrbanRural      RevLineCr  \\\n",
       "count  457619.000000  457619.000000  457619.00000  457619.000000   \n",
       "mean        4.778420       0.031260       0.90059       0.419493   \n",
       "std        15.688928       0.174019       0.60448       0.493477   \n",
       "min         0.000000       0.000000       0.00000       0.000000   \n",
       "25%         0.000000       0.000000       1.00000       0.000000   \n",
       "50%         1.000000       0.000000       1.00000       0.000000   \n",
       "75%         5.000000       0.000000       1.00000       1.000000   \n",
       "max      4441.000000       1.000000       2.00000       1.000000   \n",
       "\n",
       "              LowDoc  DisbursementGross   BalanceGross     MIS_Status  \\\n",
       "count  457619.000000       4.576190e+05  457619.000000  457619.000000   \n",
       "mean        0.054967       1.724434e+05       4.404846       0.784937   \n",
       "std         0.227916       2.753099e+05    1921.119374       0.410867   \n",
       "min         0.000000       4.000000e+03       0.000000       0.000000   \n",
       "25%         0.000000       3.500000e+04       0.000000       1.000000   \n",
       "50%         0.000000       7.600000e+04       0.000000       1.000000   \n",
       "75%         0.000000       1.930000e+05       0.000000       1.000000   \n",
       "max         1.000000       1.144632e+07  996262.000000       1.000000   \n",
       "\n",
       "       ChgOffPrinGr        GrAppv      SBA_Appv  \n",
       "count  4.576190e+05  4.576190e+05  4.576190e+05  \n",
       "mean   1.292664e+04  1.545250e+05  1.174789e+05  \n",
       "std    5.807505e+04  2.615796e+05  2.144154e+05  \n",
       "min    0.000000e+00  1.000000e+03  5.000000e+02  \n",
       "25%    0.000000e+00  2.500000e+04  1.275000e+04  \n",
       "50%    0.000000e+00  5.000000e+04  3.500000e+04  \n",
       "75%    0.000000e+00  1.580000e+05  1.250000e+05  \n",
       "max    3.512596e+06  5.000000e+06  4.500000e+06  "
      ]
     },
     "execution_count": 140,
     "metadata": {},
     "output_type": "execute_result"
    }
   ],
   "source": [
    "data1.describe()"
   ]
  },
  {
   "cell_type": "code",
   "execution_count": 146,
   "id": "1a49e875-8b31-4bf2-b3c6-1b2923426b03",
   "metadata": {},
   "outputs": [
    {
     "data": {
      "text/plain": [
       "Index(['LoanNr_ChkDgt', 'Name', 'City', 'State', 'Zip', 'Bank', 'BankState',\n",
       "       'NAICS', 'ApprovalDate', 'ApprovalFY', 'Term', 'NoEmp', 'NewExist',\n",
       "       'CreateJob', 'RetainedJob', 'FranchiseCode', 'UrbanRural', 'RevLineCr',\n",
       "       'LowDoc', 'DisbursementDate', 'DisbursementGross', 'BalanceGross',\n",
       "       'MIS_Status', 'ChgOffPrinGr', 'GrAppv', 'SBA_Appv'],\n",
       "      dtype='object')"
      ]
     },
     "execution_count": 146,
     "metadata": {},
     "output_type": "execute_result"
    }
   ],
   "source": [
    "data1.columns"
   ]
  },
  {
   "cell_type": "code",
   "execution_count": 154,
   "id": "7906ba84-a764-4332-b557-bf44d385cc58",
   "metadata": {},
   "outputs": [],
   "source": [
    "columns_for_analysis = ['MIS_Status','NAICS','Term', 'NoEmp', 'NewExist',\n",
    "       'CreateJob', 'RetainedJob', 'FranchiseCode', 'UrbanRural', 'RevLineCr',\n",
    "       'LowDoc','DisbursementGross', 'BalanceGross',\n",
    "       'ChgOffPrinGr', 'GrAppv', 'SBA_Appv']"
   ]
  },
  {
   "cell_type": "code",
   "execution_count": 155,
   "id": "cab313ff-7739-468b-b751-51586c707495",
   "metadata": {},
   "outputs": [],
   "source": [
    "corr_coeff = data1[columns_for_analysis].corr()"
   ]
  },
  {
   "cell_type": "code",
   "execution_count": 156,
   "id": "4891d493-bb45-44c0-8129-949c9582f4e6",
   "metadata": {},
   "outputs": [
    {
     "data": {
      "text/html": [
       "<div>\n",
       "<style scoped>\n",
       "    .dataframe tbody tr th:only-of-type {\n",
       "        vertical-align: middle;\n",
       "    }\n",
       "\n",
       "    .dataframe tbody tr th {\n",
       "        vertical-align: top;\n",
       "    }\n",
       "\n",
       "    .dataframe thead th {\n",
       "        text-align: right;\n",
       "    }\n",
       "</style>\n",
       "<table border=\"1\" class=\"dataframe\">\n",
       "  <thead>\n",
       "    <tr style=\"text-align: right;\">\n",
       "      <th></th>\n",
       "      <th>MIS_Status</th>\n",
       "      <th>NAICS</th>\n",
       "      <th>Term</th>\n",
       "      <th>NoEmp</th>\n",
       "      <th>NewExist</th>\n",
       "      <th>CreateJob</th>\n",
       "      <th>RetainedJob</th>\n",
       "      <th>FranchiseCode</th>\n",
       "      <th>UrbanRural</th>\n",
       "      <th>RevLineCr</th>\n",
       "      <th>LowDoc</th>\n",
       "      <th>DisbursementGross</th>\n",
       "      <th>BalanceGross</th>\n",
       "      <th>ChgOffPrinGr</th>\n",
       "      <th>GrAppv</th>\n",
       "      <th>SBA_Appv</th>\n",
       "    </tr>\n",
       "  </thead>\n",
       "  <tbody>\n",
       "    <tr>\n",
       "      <th>MIS_Status</th>\n",
       "      <td>1.000000</td>\n",
       "      <td>-0.004650</td>\n",
       "      <td>0.339912</td>\n",
       "      <td>0.034126</td>\n",
       "      <td>-0.000902</td>\n",
       "      <td>0.007728</td>\n",
       "      <td>0.005954</td>\n",
       "      <td>0.025015</td>\n",
       "      <td>-0.158997</td>\n",
       "      <td>-0.095876</td>\n",
       "      <td>0.097349</td>\n",
       "      <td>0.127551</td>\n",
       "      <td>0.001200</td>\n",
       "      <td>-0.420242</td>\n",
       "      <td>0.139623</td>\n",
       "      <td>0.149643</td>\n",
       "    </tr>\n",
       "    <tr>\n",
       "      <th>NAICS</th>\n",
       "      <td>-0.004650</td>\n",
       "      <td>1.000000</td>\n",
       "      <td>0.081770</td>\n",
       "      <td>-0.016812</td>\n",
       "      <td>0.111301</td>\n",
       "      <td>0.010559</td>\n",
       "      <td>-0.004777</td>\n",
       "      <td>0.122215</td>\n",
       "      <td>0.021235</td>\n",
       "      <td>-0.039817</td>\n",
       "      <td>0.003236</td>\n",
       "      <td>-0.043384</td>\n",
       "      <td>-0.002499</td>\n",
       "      <td>0.001167</td>\n",
       "      <td>-0.025945</td>\n",
       "      <td>-0.021960</td>\n",
       "    </tr>\n",
       "    <tr>\n",
       "      <th>Term</th>\n",
       "      <td>0.339912</td>\n",
       "      <td>0.081770</td>\n",
       "      <td>1.000000</td>\n",
       "      <td>0.054699</td>\n",
       "      <td>-0.021694</td>\n",
       "      <td>0.061841</td>\n",
       "      <td>0.002698</td>\n",
       "      <td>0.053383</td>\n",
       "      <td>-0.231464</td>\n",
       "      <td>-0.396393</td>\n",
       "      <td>-0.021579</td>\n",
       "      <td>0.399621</td>\n",
       "      <td>0.002726</td>\n",
       "      <td>-0.056001</td>\n",
       "      <td>0.461460</td>\n",
       "      <td>0.496716</td>\n",
       "    </tr>\n",
       "    <tr>\n",
       "      <th>NoEmp</th>\n",
       "      <td>0.034126</td>\n",
       "      <td>-0.016812</td>\n",
       "      <td>0.054699</td>\n",
       "      <td>1.000000</td>\n",
       "      <td>-0.043165</td>\n",
       "      <td>0.056068</td>\n",
       "      <td>0.204545</td>\n",
       "      <td>0.009765</td>\n",
       "      <td>-0.041821</td>\n",
       "      <td>-0.047837</td>\n",
       "      <td>-0.014779</td>\n",
       "      <td>0.113076</td>\n",
       "      <td>-0.000063</td>\n",
       "      <td>0.007385</td>\n",
       "      <td>0.116822</td>\n",
       "      <td>0.117632</td>\n",
       "    </tr>\n",
       "    <tr>\n",
       "      <th>NewExist</th>\n",
       "      <td>-0.000902</td>\n",
       "      <td>0.111301</td>\n",
       "      <td>-0.021694</td>\n",
       "      <td>-0.043165</td>\n",
       "      <td>1.000000</td>\n",
       "      <td>0.019224</td>\n",
       "      <td>-0.075431</td>\n",
       "      <td>0.100980</td>\n",
       "      <td>0.026656</td>\n",
       "      <td>-0.097652</td>\n",
       "      <td>0.081135</td>\n",
       "      <td>-0.046153</td>\n",
       "      <td>0.001048</td>\n",
       "      <td>0.025369</td>\n",
       "      <td>-0.032692</td>\n",
       "      <td>-0.030779</td>\n",
       "    </tr>\n",
       "    <tr>\n",
       "      <th>CreateJob</th>\n",
       "      <td>0.007728</td>\n",
       "      <td>0.010559</td>\n",
       "      <td>0.061841</td>\n",
       "      <td>0.056068</td>\n",
       "      <td>0.019224</td>\n",
       "      <td>1.000000</td>\n",
       "      <td>0.129194</td>\n",
       "      <td>0.017487</td>\n",
       "      <td>0.010730</td>\n",
       "      <td>-0.020176</td>\n",
       "      <td>-0.027172</td>\n",
       "      <td>0.072019</td>\n",
       "      <td>-0.000195</td>\n",
       "      <td>0.015243</td>\n",
       "      <td>0.073030</td>\n",
       "      <td>0.088260</td>\n",
       "    </tr>\n",
       "    <tr>\n",
       "      <th>RetainedJob</th>\n",
       "      <td>0.005954</td>\n",
       "      <td>-0.004777</td>\n",
       "      <td>0.002698</td>\n",
       "      <td>0.204545</td>\n",
       "      <td>-0.075431</td>\n",
       "      <td>0.129194</td>\n",
       "      <td>1.000000</td>\n",
       "      <td>0.008585</td>\n",
       "      <td>0.077887</td>\n",
       "      <td>0.062921</td>\n",
       "      <td>-0.073455</td>\n",
       "      <td>0.125736</td>\n",
       "      <td>-0.000569</td>\n",
       "      <td>0.011141</td>\n",
       "      <td>0.106081</td>\n",
       "      <td>0.110072</td>\n",
       "    </tr>\n",
       "    <tr>\n",
       "      <th>FranchiseCode</th>\n",
       "      <td>0.025015</td>\n",
       "      <td>0.122215</td>\n",
       "      <td>0.053383</td>\n",
       "      <td>0.009765</td>\n",
       "      <td>0.100980</td>\n",
       "      <td>0.017487</td>\n",
       "      <td>0.008585</td>\n",
       "      <td>1.000000</td>\n",
       "      <td>0.003367</td>\n",
       "      <td>-0.081248</td>\n",
       "      <td>0.005548</td>\n",
       "      <td>0.070361</td>\n",
       "      <td>-0.000248</td>\n",
       "      <td>0.021563</td>\n",
       "      <td>0.084163</td>\n",
       "      <td>0.087916</td>\n",
       "    </tr>\n",
       "    <tr>\n",
       "      <th>UrbanRural</th>\n",
       "      <td>-0.158997</td>\n",
       "      <td>0.021235</td>\n",
       "      <td>-0.231464</td>\n",
       "      <td>-0.041821</td>\n",
       "      <td>0.026656</td>\n",
       "      <td>0.010730</td>\n",
       "      <td>0.077887</td>\n",
       "      <td>0.003367</td>\n",
       "      <td>1.000000</td>\n",
       "      <td>0.304519</td>\n",
       "      <td>-0.330367</td>\n",
       "      <td>-0.033692</td>\n",
       "      <td>0.002001</td>\n",
       "      <td>0.065737</td>\n",
       "      <td>-0.067189</td>\n",
       "      <td>-0.088162</td>\n",
       "    </tr>\n",
       "    <tr>\n",
       "      <th>RevLineCr</th>\n",
       "      <td>-0.095876</td>\n",
       "      <td>-0.039817</td>\n",
       "      <td>-0.396393</td>\n",
       "      <td>-0.047837</td>\n",
       "      <td>-0.097652</td>\n",
       "      <td>-0.020176</td>\n",
       "      <td>0.062921</td>\n",
       "      <td>-0.081248</td>\n",
       "      <td>0.304519</td>\n",
       "      <td>1.000000</td>\n",
       "      <td>-0.204102</td>\n",
       "      <td>-0.204945</td>\n",
       "      <td>-0.001707</td>\n",
       "      <td>-0.045185</td>\n",
       "      <td>-0.306747</td>\n",
       "      <td>-0.331878</td>\n",
       "    </tr>\n",
       "    <tr>\n",
       "      <th>LowDoc</th>\n",
       "      <td>0.097349</td>\n",
       "      <td>0.003236</td>\n",
       "      <td>-0.021579</td>\n",
       "      <td>-0.014779</td>\n",
       "      <td>0.081135</td>\n",
       "      <td>-0.027172</td>\n",
       "      <td>-0.073455</td>\n",
       "      <td>0.005548</td>\n",
       "      <td>-0.330367</td>\n",
       "      <td>-0.204102</td>\n",
       "      <td>1.000000</td>\n",
       "      <td>-0.100432</td>\n",
       "      <td>-0.000553</td>\n",
       "      <td>-0.045958</td>\n",
       "      <td>-0.088580</td>\n",
       "      <td>-0.076968</td>\n",
       "    </tr>\n",
       "    <tr>\n",
       "      <th>DisbursementGross</th>\n",
       "      <td>0.127551</td>\n",
       "      <td>-0.043384</td>\n",
       "      <td>0.399621</td>\n",
       "      <td>0.113076</td>\n",
       "      <td>-0.046153</td>\n",
       "      <td>0.072019</td>\n",
       "      <td>0.125736</td>\n",
       "      <td>0.070361</td>\n",
       "      <td>-0.033692</td>\n",
       "      <td>-0.204945</td>\n",
       "      <td>-0.100432</td>\n",
       "      <td>1.000000</td>\n",
       "      <td>0.006743</td>\n",
       "      <td>0.176750</td>\n",
       "      <td>0.947158</td>\n",
       "      <td>0.917597</td>\n",
       "    </tr>\n",
       "    <tr>\n",
       "      <th>BalanceGross</th>\n",
       "      <td>0.001200</td>\n",
       "      <td>-0.002499</td>\n",
       "      <td>0.002726</td>\n",
       "      <td>-0.000063</td>\n",
       "      <td>0.001048</td>\n",
       "      <td>-0.000195</td>\n",
       "      <td>-0.000569</td>\n",
       "      <td>-0.000248</td>\n",
       "      <td>0.002001</td>\n",
       "      <td>-0.001707</td>\n",
       "      <td>-0.000553</td>\n",
       "      <td>0.006743</td>\n",
       "      <td>1.000000</td>\n",
       "      <td>-0.000510</td>\n",
       "      <td>0.007248</td>\n",
       "      <td>0.006591</td>\n",
       "    </tr>\n",
       "    <tr>\n",
       "      <th>ChgOffPrinGr</th>\n",
       "      <td>-0.420242</td>\n",
       "      <td>0.001167</td>\n",
       "      <td>-0.056001</td>\n",
       "      <td>0.007385</td>\n",
       "      <td>0.025369</td>\n",
       "      <td>0.015243</td>\n",
       "      <td>0.011141</td>\n",
       "      <td>0.021563</td>\n",
       "      <td>0.065737</td>\n",
       "      <td>-0.045185</td>\n",
       "      <td>-0.045958</td>\n",
       "      <td>0.176750</td>\n",
       "      <td>-0.000510</td>\n",
       "      <td>1.000000</td>\n",
       "      <td>0.182808</td>\n",
       "      <td>0.155660</td>\n",
       "    </tr>\n",
       "    <tr>\n",
       "      <th>GrAppv</th>\n",
       "      <td>0.139623</td>\n",
       "      <td>-0.025945</td>\n",
       "      <td>0.461460</td>\n",
       "      <td>0.116822</td>\n",
       "      <td>-0.032692</td>\n",
       "      <td>0.073030</td>\n",
       "      <td>0.106081</td>\n",
       "      <td>0.084163</td>\n",
       "      <td>-0.067189</td>\n",
       "      <td>-0.306747</td>\n",
       "      <td>-0.088580</td>\n",
       "      <td>0.947158</td>\n",
       "      <td>0.007248</td>\n",
       "      <td>0.182808</td>\n",
       "      <td>1.000000</td>\n",
       "      <td>0.981493</td>\n",
       "    </tr>\n",
       "    <tr>\n",
       "      <th>SBA_Appv</th>\n",
       "      <td>0.149643</td>\n",
       "      <td>-0.021960</td>\n",
       "      <td>0.496716</td>\n",
       "      <td>0.117632</td>\n",
       "      <td>-0.030779</td>\n",
       "      <td>0.088260</td>\n",
       "      <td>0.110072</td>\n",
       "      <td>0.087916</td>\n",
       "      <td>-0.088162</td>\n",
       "      <td>-0.331878</td>\n",
       "      <td>-0.076968</td>\n",
       "      <td>0.917597</td>\n",
       "      <td>0.006591</td>\n",
       "      <td>0.155660</td>\n",
       "      <td>0.981493</td>\n",
       "      <td>1.000000</td>\n",
       "    </tr>\n",
       "  </tbody>\n",
       "</table>\n",
       "</div>"
      ],
      "text/plain": [
       "                   MIS_Status     NAICS      Term     NoEmp  NewExist  \\\n",
       "MIS_Status           1.000000 -0.004650  0.339912  0.034126 -0.000902   \n",
       "NAICS               -0.004650  1.000000  0.081770 -0.016812  0.111301   \n",
       "Term                 0.339912  0.081770  1.000000  0.054699 -0.021694   \n",
       "NoEmp                0.034126 -0.016812  0.054699  1.000000 -0.043165   \n",
       "NewExist            -0.000902  0.111301 -0.021694 -0.043165  1.000000   \n",
       "CreateJob            0.007728  0.010559  0.061841  0.056068  0.019224   \n",
       "RetainedJob          0.005954 -0.004777  0.002698  0.204545 -0.075431   \n",
       "FranchiseCode        0.025015  0.122215  0.053383  0.009765  0.100980   \n",
       "UrbanRural          -0.158997  0.021235 -0.231464 -0.041821  0.026656   \n",
       "RevLineCr           -0.095876 -0.039817 -0.396393 -0.047837 -0.097652   \n",
       "LowDoc               0.097349  0.003236 -0.021579 -0.014779  0.081135   \n",
       "DisbursementGross    0.127551 -0.043384  0.399621  0.113076 -0.046153   \n",
       "BalanceGross         0.001200 -0.002499  0.002726 -0.000063  0.001048   \n",
       "ChgOffPrinGr        -0.420242  0.001167 -0.056001  0.007385  0.025369   \n",
       "GrAppv               0.139623 -0.025945  0.461460  0.116822 -0.032692   \n",
       "SBA_Appv             0.149643 -0.021960  0.496716  0.117632 -0.030779   \n",
       "\n",
       "                   CreateJob  RetainedJob  FranchiseCode  UrbanRural  \\\n",
       "MIS_Status          0.007728     0.005954       0.025015   -0.158997   \n",
       "NAICS               0.010559    -0.004777       0.122215    0.021235   \n",
       "Term                0.061841     0.002698       0.053383   -0.231464   \n",
       "NoEmp               0.056068     0.204545       0.009765   -0.041821   \n",
       "NewExist            0.019224    -0.075431       0.100980    0.026656   \n",
       "CreateJob           1.000000     0.129194       0.017487    0.010730   \n",
       "RetainedJob         0.129194     1.000000       0.008585    0.077887   \n",
       "FranchiseCode       0.017487     0.008585       1.000000    0.003367   \n",
       "UrbanRural          0.010730     0.077887       0.003367    1.000000   \n",
       "RevLineCr          -0.020176     0.062921      -0.081248    0.304519   \n",
       "LowDoc             -0.027172    -0.073455       0.005548   -0.330367   \n",
       "DisbursementGross   0.072019     0.125736       0.070361   -0.033692   \n",
       "BalanceGross       -0.000195    -0.000569      -0.000248    0.002001   \n",
       "ChgOffPrinGr        0.015243     0.011141       0.021563    0.065737   \n",
       "GrAppv              0.073030     0.106081       0.084163   -0.067189   \n",
       "SBA_Appv            0.088260     0.110072       0.087916   -0.088162   \n",
       "\n",
       "                   RevLineCr    LowDoc  DisbursementGross  BalanceGross  \\\n",
       "MIS_Status         -0.095876  0.097349           0.127551      0.001200   \n",
       "NAICS              -0.039817  0.003236          -0.043384     -0.002499   \n",
       "Term               -0.396393 -0.021579           0.399621      0.002726   \n",
       "NoEmp              -0.047837 -0.014779           0.113076     -0.000063   \n",
       "NewExist           -0.097652  0.081135          -0.046153      0.001048   \n",
       "CreateJob          -0.020176 -0.027172           0.072019     -0.000195   \n",
       "RetainedJob         0.062921 -0.073455           0.125736     -0.000569   \n",
       "FranchiseCode      -0.081248  0.005548           0.070361     -0.000248   \n",
       "UrbanRural          0.304519 -0.330367          -0.033692      0.002001   \n",
       "RevLineCr           1.000000 -0.204102          -0.204945     -0.001707   \n",
       "LowDoc             -0.204102  1.000000          -0.100432     -0.000553   \n",
       "DisbursementGross  -0.204945 -0.100432           1.000000      0.006743   \n",
       "BalanceGross       -0.001707 -0.000553           0.006743      1.000000   \n",
       "ChgOffPrinGr       -0.045185 -0.045958           0.176750     -0.000510   \n",
       "GrAppv             -0.306747 -0.088580           0.947158      0.007248   \n",
       "SBA_Appv           -0.331878 -0.076968           0.917597      0.006591   \n",
       "\n",
       "                   ChgOffPrinGr    GrAppv  SBA_Appv  \n",
       "MIS_Status            -0.420242  0.139623  0.149643  \n",
       "NAICS                  0.001167 -0.025945 -0.021960  \n",
       "Term                  -0.056001  0.461460  0.496716  \n",
       "NoEmp                  0.007385  0.116822  0.117632  \n",
       "NewExist               0.025369 -0.032692 -0.030779  \n",
       "CreateJob              0.015243  0.073030  0.088260  \n",
       "RetainedJob            0.011141  0.106081  0.110072  \n",
       "FranchiseCode          0.021563  0.084163  0.087916  \n",
       "UrbanRural             0.065737 -0.067189 -0.088162  \n",
       "RevLineCr             -0.045185 -0.306747 -0.331878  \n",
       "LowDoc                -0.045958 -0.088580 -0.076968  \n",
       "DisbursementGross      0.176750  0.947158  0.917597  \n",
       "BalanceGross          -0.000510  0.007248  0.006591  \n",
       "ChgOffPrinGr           1.000000  0.182808  0.155660  \n",
       "GrAppv                 0.182808  1.000000  0.981493  \n",
       "SBA_Appv               0.155660  0.981493  1.000000  "
      ]
     },
     "execution_count": 156,
     "metadata": {},
     "output_type": "execute_result"
    }
   ],
   "source": [
    "corr_coeff"
   ]
  },
  {
   "cell_type": "code",
   "execution_count": 157,
   "id": "d2d004d3-3910-4a72-9191-10a93ff3f216",
   "metadata": {},
   "outputs": [
    {
     "data": {
      "text/plain": [
       "(457619, 26)"
      ]
     },
     "execution_count": 157,
     "metadata": {},
     "output_type": "execute_result"
    }
   ],
   "source": [
    "data1.shape"
   ]
  },
  {
   "cell_type": "code",
   "execution_count": 161,
   "id": "625d245a-bced-42d4-a7b8-9e181ef90ef2",
   "metadata": {},
   "outputs": [
    {
     "data": {
      "image/png": "[encoded data removed]",
      "text/plain": [
       "<Figure size 3000x2000 with 2 Axes>"
      ]
     },
     "metadata": {},
     "output_type": "display_data"
    }
   ],
   "source": [
    "import seaborn as sns\n",
    "plt.figure(figsize = (30,20))\n",
    "sns.heatmap(corr_coeff, annot = True, cmap = 'coolwarm', fmt=\".2f\")\n",
    "plt.show()"
   ]
  },
  {
   "cell_type": "code",
   "execution_count": 162,
   "id": "95cf3151-3af7-45cc-9c7a-34f2f4df7a45",
   "metadata": {},
   "outputs": [
    {
     "data": {
      "text/plain": [
       "Index(['LoanNr_ChkDgt', 'Name', 'City', 'State', 'Zip', 'Bank', 'BankState',\n",
       "       'NAICS', 'ApprovalDate', 'ApprovalFY', 'Term', 'NoEmp', 'NewExist',\n",
       "       'CreateJob', 'RetainedJob', 'FranchiseCode', 'UrbanRural', 'RevLineCr',\n",
       "       'LowDoc', 'DisbursementDate', 'DisbursementGross', 'BalanceGross',\n",
       "       'MIS_Status', 'ChgOffPrinGr', 'GrAppv', 'SBA_Appv'],\n",
       "      dtype='object')"
      ]
     },
     "execution_count": 162,
     "metadata": {},
     "output_type": "execute_result"
    }
   ],
   "source": [
    "data1.columns"
   ]
  },
  {
   "cell_type": "code",
   "execution_count": 164,
   "id": "76f5c62f-819a-4e43-b2bc-baa73cd35d6e",
   "metadata": {},
   "outputs": [],
   "source": [
    "log_reg_features = ['NAICS','Term', 'NoEmp', 'NewExist',\n",
    "       'CreateJob', 'RetainedJob', 'FranchiseCode', 'UrbanRural', 'RevLineCr',\n",
    "       'LowDoc']\n",
    "target = ['MIS_Status']"
   ]
  },
  {
   "cell_type": "code",
   "execution_count": 165,
   "id": "26db1798-6580-44f0-b447-f02c5f022735",
   "metadata": {},
   "outputs": [],
   "source": [
    "log_reg_X = data1[log_reg_features]\n",
    "log_reg_y = data1[target]"
   ]
  },
  {
   "cell_type": "code",
   "execution_count": 166,
   "id": "51e5ae33-2135-4d94-8955-11054e3ea931",
   "metadata": {},
   "outputs": [],
   "source": [
    "from sklearn.model_selection import train_test_split"
   ]
  },
  {
   "cell_type": "code",
   "execution_count": 167,
   "id": "8f614469-6064-459b-910e-4c7c31eeb773",
   "metadata": {},
   "outputs": [],
   "source": [
    "X_train_logreg, X_test_logreg, y_train_logreg, y_test_logreg = train_test_split(log_reg_X, log_reg_y, test_size = 0.2, stratify = log_reg_y, random_state = 42)"
   ]
  },
  {
   "cell_type": "code",
   "execution_count": 173,
   "id": "428923b3-6795-4dde-a817-fcbd4c243c63",
   "metadata": {},
   "outputs": [
    {
     "data": {
      "text/plain": [
       "(91524, 10)"
      ]
     },
     "execution_count": 173,
     "metadata": {},
     "output_type": "execute_result"
    }
   ],
   "source": [
    "X_test_logreg.shape"
   ]
  },
  {
   "cell_type": "code",
   "execution_count": 174,
   "id": "23d69753-bb30-4b2b-b124-f7dcb4f9b678",
   "metadata": {},
   "outputs": [
    {
     "data": {
      "text/plain": [
       "(366095, 10)"
      ]
     },
     "execution_count": 174,
     "metadata": {},
     "output_type": "execute_result"
    }
   ],
   "source": [
    "X_train_logreg.shape"
   ]
  },
  {
   "cell_type": "code",
   "execution_count": 175,
   "id": "b3cc4e90-3b88-46ca-96fb-e43f153d3231",
   "metadata": {},
   "outputs": [],
   "source": [
    "from sklearn.linear_model import LogisticRegression"
   ]
  },
  {
   "cell_type": "code",
   "execution_count": 176,
   "id": "0f9af435-df51-4bf5-be77-2f12974786bb",
   "metadata": {},
   "outputs": [],
   "source": [
    "model_logreg = LogisticRegression()"
   ]
  },
  {
   "cell_type": "code",
   "execution_count": 177,
   "id": "d27b5118-990a-43a0-ac71-04bffaabbc86",
   "metadata": {},
   "outputs": [
    {
     "name": "stderr",
     "output_type": "stream",
     "text": [
      "D:\\AllMyCode\\ML\\DataMiningProject\\.venv\\lib\\site-packages\\sklearn\\utils\\validation.py:1183: DataConversionWarning: A column-vector y was passed when a 1d array was expected. Please change the shape of y to (n_samples, ), for example using ravel().\n",
      "  y = column_or_1d(y, warn=True)\n",
      "D:\\AllMyCode\\ML\\DataMiningProject\\.venv\\lib\\site-packages\\sklearn\\linear_model\\_logistic.py:460: ConvergenceWarning: lbfgs failed to converge (status=1):\n",
      "STOP: TOTAL NO. of ITERATIONS REACHED LIMIT.\n",
      "\n",
      "Increase the number of iterations (max_iter) or scale the data as shown in:\n",
      "    https://scikit-learn.org/stable/modules/preprocessing.html\n",
      "Please also refer to the documentation for alternative solver options:\n",
      "    https://scikit-learn.org/stable/modules/linear_model.html#logistic-regression\n",
      "  n_iter_i = _check_optimize_result(\n"
     ]
    },
    {
     "data": {
      "text/html": [
       "<style>#sk-container-id-1 {color: black;}#sk-container-id-1 pre{padding: 0;}#sk-container-id-1 div.sk-toggleable {background-color: white;}#sk-container-id-1 label.sk-toggleable__label {cursor: pointer;display: block;width: 100%;margin-bottom: 0;padding: 0.3em;box-sizing: border-box;text-align: center;}#sk-container-id-1 label.sk-toggleable__label-arrow:before {content: \"▸\";float: left;margin-right: 0.25em;color: #696969;}#sk-container-id-1 label.sk-toggleable__label-arrow:hover:before {color: black;}#sk-container-id-1 div.sk-estimator:hover label.sk-toggleable__label-arrow:before {color: black;}#sk-container-id-1 div.sk-toggleable__content {max-height: 0;max-width: 0;overflow: hidden;text-align: left;background-color: #f0f8ff;}#sk-container-id-1 div.sk-toggleable__content pre {margin: 0.2em;color: black;border-radius: 0.25em;background-color: #f0f8ff;}#sk-container-id-1 input.sk-toggleable__control:checked~div.sk-toggleable__content {max-height: 200px;max-width: 100%;overflow: auto;}#sk-container-id-1 input.sk-toggleable__control:checked~label.sk-toggleable__label-arrow:before {content: \"▾\";}#sk-container-id-1 div.sk-estimator input.sk-toggleable__control:checked~label.sk-toggleable__label {background-color: #d4ebff;}#sk-container-id-1 div.sk-label input.sk-toggleable__control:checked~label.sk-toggleable__label {background-color: #d4ebff;}#sk-container-id-1 input.sk-hidden--visually {border: 0;clip: rect(1px 1px 1px 1px);clip: rect(1px, 1px, 1px, 1px);height: 1px;margin: -1px;overflow: hidden;padding: 0;position: absolute;width: 1px;}#sk-container-id-1 div.sk-estimator {font-family: monospace;background-color: #f0f8ff;border: 1px dotted black;border-radius: 0.25em;box-sizing: border-box;margin-bottom: 0.5em;}#sk-container-id-1 div.sk-estimator:hover {background-color: #d4ebff;}#sk-container-id-1 div.sk-parallel-item::after {content: \"\";width: 100%;border-bottom: 1px solid gray;flex-grow: 1;}#sk-container-id-1 div.sk-label:hover label.sk-toggleable__label {background-color: #d4ebff;}#sk-container-id-1 div.sk-serial::before {content: \"\";position: absolute;border-left: 1px solid gray;box-sizing: border-box;top: 0;bottom: 0;left: 50%;z-index: 0;}#sk-container-id-1 div.sk-serial {display: flex;flex-direction: column;align-items: center;background-color: white;padding-right: 0.2em;padding-left: 0.2em;position: relative;}#sk-container-id-1 div.sk-item {position: relative;z-index: 1;}#sk-container-id-1 div.sk-parallel {display: flex;align-items: stretch;justify-content: center;background-color: white;position: relative;}#sk-container-id-1 div.sk-item::before, #sk-container-id-1 div.sk-parallel-item::before {content: \"\";position: absolute;border-left: 1px solid gray;box-sizing: border-box;top: 0;bottom: 0;left: 50%;z-index: -1;}#sk-container-id-1 div.sk-parallel-item {display: flex;flex-direction: column;z-index: 1;position: relative;background-color: white;}#sk-container-id-1 div.sk-parallel-item:first-child::after {align-self: flex-end;width: 50%;}#sk-container-id-1 div.sk-parallel-item:last-child::after {align-self: flex-start;width: 50%;}#sk-container-id-1 div.sk-parallel-item:only-child::after {width: 0;}#sk-container-id-1 div.sk-dashed-wrapped {border: 1px dashed gray;margin: 0 0.4em 0.5em 0.4em;box-sizing: border-box;padding-bottom: 0.4em;background-color: white;}#sk-container-id-1 div.sk-label label {font-family: monospace;font-weight: bold;display: inline-block;line-height: 1.2em;}#sk-container-id-1 div.sk-label-container {text-align: center;}#sk-container-id-1 div.sk-container {/* jupyter's `normalize.less` sets `[hidden] { display: none; }` but bootstrap.min.css set `[hidden] { display: none !important; }` so we also need the `!important` here to be able to override the default hidden behavior on the sphinx rendered scikit-learn.org. See: https://github.com/scikit-learn/scikit-learn/issues/21755 */display: inline-block !important;position: relative;}#sk-container-id-1 div.sk-text-repr-fallback {display: none;}</style><div id=\"sk-container-id-1\" class=\"sk-top-container\"><div class=\"sk-text-repr-fallback\"><pre>LogisticRegression()</pre><b>In a Jupyter environment, please rerun this cell to show the HTML representation or trust the notebook. <br />On GitHub, the HTML representation is unable to render, please try loading this page with nbviewer.org.</b></div><div class=\"sk-container\" hidden><div class=\"sk-item\"><div class=\"sk-estimator sk-toggleable\"><input class=\"sk-toggleable__control sk-hidden--visually\" id=\"sk-estimator-id-1\" type=\"checkbox\" checked><label for=\"sk-estimator-id-1\" class=\"sk-toggleable__label sk-toggleable__label-arrow\">LogisticRegression</label><div class=\"sk-toggleable__content\"><pre>LogisticRegression()</pre></div></div></div></div></div>"
      ],
      "text/plain": [
       "LogisticRegression()"
      ]
     },
     "execution_count": 177,
     "metadata": {},
     "output_type": "execute_result"
    }
   ],
   "source": [
    "model_logreg.fit(X_train_logreg, y_train_logreg)"
   ]
  },
  {
   "cell_type": "code",
   "execution_count": 179,
   "id": "ab63ca55-6ac8-4cc9-9905-9a08968571ee",
   "metadata": {},
   "outputs": [],
   "source": [
    "y_pred_logreg = model_logreg.predict(X_test_logreg)"
   ]
  },
  {
   "cell_type": "code",
   "execution_count": 187,
   "id": "6b922279-238b-452d-8816-1a2835494d9c",
   "metadata": {},
   "outputs": [],
   "source": [
    "from sklearn.metrics import recall_score"
   ]
  },
  {
   "cell_type": "code",
   "execution_count": 188,
   "id": "42545c72-f65f-475a-8aa9-aa4fe41175a5",
   "metadata": {},
   "outputs": [],
   "source": [
    "recall_logreg = recall_score(y_test_logreg, y_pred_logreg)"
   ]
  },
  {
   "cell_type": "code",
   "execution_count": 189,
   "id": "e91b7c78-164e-4e50-aec1-9ae02fc4a79c",
   "metadata": {},
   "outputs": [
    {
     "data": {
      "text/plain": [
       "0.9378488606784426"
      ]
     },
     "execution_count": 189,
     "metadata": {},
     "output_type": "execute_result"
    }
   ],
   "source": [
    "recall_logreg"
   ]
  },
  {
   "cell_type": "code",
   "execution_count": 184,
   "id": "213587e3-3b69-4aa6-8806-afcb90e4fe67",
   "metadata": {},
   "outputs": [],
   "source": [
    "from sklearn.metrics import precision_score"
   ]
  },
  {
   "cell_type": "code",
   "execution_count": 185,
   "id": "49a8800e-4ba4-451e-a40f-65c452204e2f",
   "metadata": {},
   "outputs": [],
   "source": [
    "precision_logreg = precision_score(y_test_logreg, y_pred_logreg)"
   ]
  },
  {
   "cell_type": "code",
   "execution_count": 186,
   "id": "c359e5d7-3eda-4a89-9ac0-66a69ea2c931",
   "metadata": {},
   "outputs": [
    {
     "data": {
      "text/plain": [
       "0.8338717063329991"
      ]
     },
     "execution_count": 186,
     "metadata": {},
     "output_type": "execute_result"
    }
   ],
   "source": [
    "precision_logreg"
   ]
  },
  {
   "cell_type": "code",
   "execution_count": 190,
   "id": "44cfe79a-1d44-4949-ba6e-36545e32eb0f",
   "metadata": {},
   "outputs": [],
   "source": [
    "from sklearn.metrics import classification_report "
   ]
  },
  {
   "cell_type": "code",
   "execution_count": 191,
   "id": "23ea5fdc-2e4e-49ed-8cfd-4dbc6a8db9dd",
   "metadata": {},
   "outputs": [],
   "source": [
    "classification_report_logreg = classification_report(y_test_logreg, y_pred_logreg)"
   ]
  },
  {
   "cell_type": "code",
   "execution_count": 193,
   "id": "a10e78f5-9fd6-4271-afb5-d26da0d0a2d5",
   "metadata": {},
   "outputs": [
    {
     "name": "stdout",
     "output_type": "stream",
     "text": [
      "              precision    recall  f1-score   support\n",
      "\n",
      "           0       0.58      0.32      0.41     19683\n",
      "           1       0.83      0.94      0.88     71841\n",
      "\n",
      "    accuracy                           0.80     91524\n",
      "   macro avg       0.71      0.63      0.65     91524\n",
      "weighted avg       0.78      0.80      0.78     91524\n",
      "\n"
     ]
    }
   ],
   "source": [
    "print(classification_report_logreg)"
   ]
  },
  {
   "cell_type": "code",
   "execution_count": 194,
   "id": "adcc4860-5cd7-4486-ab8a-4e42e5e49f39",
   "metadata": {},
   "outputs": [],
   "source": [
    "forest_features = ['NAICS','Term', 'NoEmp', 'NewExist',\n",
    "       'CreateJob', 'RetainedJob', 'FranchiseCode', 'UrbanRural', 'RevLineCr',\n",
    "       'LowDoc']"
   ]
  },
  {
   "cell_type": "code",
   "execution_count": 196,
   "id": "a19f1d2d-e2a8-4a44-ae93-ff6bd51f08bd",
   "metadata": {},
   "outputs": [],
   "source": [
    "from sklearn.ensemble import RandomForestClassifier"
   ]
  },
  {
   "cell_type": "code",
   "execution_count": 197,
   "id": "98c25636-f68d-4944-b8de-2087946708ed",
   "metadata": {},
   "outputs": [],
   "source": [
    "rf_classifier = RandomForestClassifier(n_estimators = 100, random_state = 42)"
   ]
  },
  {
   "cell_type": "code",
   "execution_count": 198,
   "id": "2946d1f7-4d73-4378-b20c-eab0ef0c1a6d",
   "metadata": {},
   "outputs": [
    {
     "name": "stderr",
     "output_type": "stream",
     "text": [
      "D:\\AllMyCode\\ML\\DataMiningProject\\.venv\\lib\\site-packages\\sklearn\\base.py:1152: DataConversionWarning: A column-vector y was passed when a 1d array was expected. Please change the shape of y to (n_samples,), for example using ravel().\n",
      "  return fit_method(estimator, *args, **kwargs)\n"
     ]
    },
    {
     "data": {
      "text/html": [
       "<style>#sk-container-id-2 {color: black;}#sk-container-id-2 pre{padding: 0;}#sk-container-id-2 div.sk-toggleable {background-color: white;}#sk-container-id-2 label.sk-toggleable__label {cursor: pointer;display: block;width: 100%;margin-bottom: 0;padding: 0.3em;box-sizing: border-box;text-align: center;}#sk-container-id-2 label.sk-toggleable__label-arrow:before {content: \"▸\";float: left;margin-right: 0.25em;color: #696969;}#sk-container-id-2 label.sk-toggleable__label-arrow:hover:before {color: black;}#sk-container-id-2 div.sk-estimator:hover label.sk-toggleable__label-arrow:before {color: black;}#sk-container-id-2 div.sk-toggleable__content {max-height: 0;max-width: 0;overflow: hidden;text-align: left;background-color: #f0f8ff;}#sk-container-id-2 div.sk-toggleable__content pre {margin: 0.2em;color: black;border-radius: 0.25em;background-color: #f0f8ff;}#sk-container-id-2 input.sk-toggleable__control:checked~div.sk-toggleable__content {max-height: 200px;max-width: 100%;overflow: auto;}#sk-container-id-2 input.sk-toggleable__control:checked~label.sk-toggleable__label-arrow:before {content: \"▾\";}#sk-container-id-2 div.sk-estimator input.sk-toggleable__control:checked~label.sk-toggleable__label {background-color: #d4ebff;}#sk-container-id-2 div.sk-label input.sk-toggleable__control:checked~label.sk-toggleable__label {background-color: #d4ebff;}#sk-container-id-2 input.sk-hidden--visually {border: 0;clip: rect(1px 1px 1px 1px);clip: rect(1px, 1px, 1px, 1px);height: 1px;margin: -1px;overflow: hidden;padding: 0;position: absolute;width: 1px;}#sk-container-id-2 div.sk-estimator {font-family: monospace;background-color: #f0f8ff;border: 1px dotted black;border-radius: 0.25em;box-sizing: border-box;margin-bottom: 0.5em;}#sk-container-id-2 div.sk-estimator:hover {background-color: #d4ebff;}#sk-container-id-2 div.sk-parallel-item::after {content: \"\";width: 100%;border-bottom: 1px solid gray;flex-grow: 1;}#sk-container-id-2 div.sk-label:hover label.sk-toggleable__label {background-color: #d4ebff;}#sk-container-id-2 div.sk-serial::before {content: \"\";position: absolute;border-left: 1px solid gray;box-sizing: border-box;top: 0;bottom: 0;left: 50%;z-index: 0;}#sk-container-id-2 div.sk-serial {display: flex;flex-direction: column;align-items: center;background-color: white;padding-right: 0.2em;padding-left: 0.2em;position: relative;}#sk-container-id-2 div.sk-item {position: relative;z-index: 1;}#sk-container-id-2 div.sk-parallel {display: flex;align-items: stretch;justify-content: center;background-color: white;position: relative;}#sk-container-id-2 div.sk-item::before, #sk-container-id-2 div.sk-parallel-item::before {content: \"\";position: absolute;border-left: 1px solid gray;box-sizing: border-box;top: 0;bottom: 0;left: 50%;z-index: -1;}#sk-container-id-2 div.sk-parallel-item {display: flex;flex-direction: column;z-index: 1;position: relative;background-color: white;}#sk-container-id-2 div.sk-parallel-item:first-child::after {align-self: flex-end;width: 50%;}#sk-container-id-2 div.sk-parallel-item:last-child::after {align-self: flex-start;width: 50%;}#sk-container-id-2 div.sk-parallel-item:only-child::after {width: 0;}#sk-container-id-2 div.sk-dashed-wrapped {border: 1px dashed gray;margin: 0 0.4em 0.5em 0.4em;box-sizing: border-box;padding-bottom: 0.4em;background-color: white;}#sk-container-id-2 div.sk-label label {font-family: monospace;font-weight: bold;display: inline-block;line-height: 1.2em;}#sk-container-id-2 div.sk-label-container {text-align: center;}#sk-container-id-2 div.sk-container {/* jupyter's `normalize.less` sets `[hidden] { display: none; }` but bootstrap.min.css set `[hidden] { display: none !important; }` so we also need the `!important` here to be able to override the default hidden behavior on the sphinx rendered scikit-learn.org. See: https://github.com/scikit-learn/scikit-learn/issues/21755 */display: inline-block !important;position: relative;}#sk-container-id-2 div.sk-text-repr-fallback {display: none;}</style><div id=\"sk-container-id-2\" class=\"sk-top-container\"><div class=\"sk-text-repr-fallback\"><pre>RandomForestClassifier(random_state=42)</pre><b>In a Jupyter environment, please rerun this cell to show the HTML representation or trust the notebook. <br />On GitHub, the HTML representation is unable to render, please try loading this page with nbviewer.org.</b></div><div class=\"sk-container\" hidden><div class=\"sk-item\"><div class=\"sk-estimator sk-toggleable\"><input class=\"sk-toggleable__control sk-hidden--visually\" id=\"sk-estimator-id-2\" type=\"checkbox\" checked><label for=\"sk-estimator-id-2\" class=\"sk-toggleable__label sk-toggleable__label-arrow\">RandomForestClassifier</label><div class=\"sk-toggleable__content\"><pre>RandomForestClassifier(random_state=42)</pre></div></div></div></div></div>"
      ],
      "text/plain": [
       "RandomForestClassifier(random_state=42)"
      ]
     },
     "execution_count": 198,
     "metadata": {},
     "output_type": "execute_result"
    }
   ],
   "source": [
    "rf_classifier.fit(X_train_logreg, y_train_logreg)"
   ]
  },
  {
   "cell_type": "code",
   "execution_count": 202,
   "id": "233d5f71-3ab0-4374-ab89-4a63adf16cb2",
   "metadata": {},
   "outputs": [],
   "source": [
    "y_pred_forest = rf_classifier.predict(X_test_logreg)"
   ]
  },
  {
   "cell_type": "code",
   "execution_count": 203,
   "id": "3fc3427b-3069-48ad-8845-e2bed9dd9a8f",
   "metadata": {},
   "outputs": [],
   "source": [
    "recall_forest = recall_score(y_test_logreg ,y_pred_forest)"
   ]
  },
  {
   "cell_type": "code",
   "execution_count": 204,
   "id": "07e30f95-2211-4f11-82f6-bfcab2a1304c",
   "metadata": {},
   "outputs": [
    {
     "data": {
      "text/plain": [
       "0.9553597527874055"
      ]
     },
     "execution_count": 204,
     "metadata": {},
     "output_type": "execute_result"
    }
   ],
   "source": [
    "recall_forest"
   ]
  },
  {
   "cell_type": "code",
   "execution_count": 205,
   "id": "4d2f0d6d-61ad-44b4-b70e-c862d0b5c010",
   "metadata": {},
   "outputs": [],
   "source": [
    "precision_forest = precision_score(y_test_logreg ,y_pred_forest)"
   ]
  },
  {
   "cell_type": "code",
   "execution_count": 206,
   "id": "038029f2-ebd2-4165-b4f9-63ceafd45821",
   "metadata": {},
   "outputs": [
    {
     "data": {
      "text/plain": [
       "0.9447472745292369"
      ]
     },
     "execution_count": 206,
     "metadata": {},
     "output_type": "execute_result"
    }
   ],
   "source": [
    "precision_forest"
   ]
  },
  {
   "cell_type": "code",
   "execution_count": 207,
   "id": "a1e461c8-c075-418c-85ba-82d37a610346",
   "metadata": {},
   "outputs": [],
   "source": [
    "classification_report_forest = classification_report(y_test_logreg, y_pred_forest)"
   ]
  },
  {
   "cell_type": "code",
   "execution_count": 209,
   "id": "9305c4a5-dd8a-4b6f-a51b-4a2e86130d36",
   "metadata": {
    "editable": true,
    "slideshow": {
     "slide_type": ""
    },
    "tags": []
   },
   "outputs": [
    {
     "name": "stdout",
     "output_type": "stream",
     "text": [
      "              precision    recall  f1-score   support\n",
      "\n",
      "           0       0.83      0.80      0.81     19683\n",
      "           1       0.94      0.96      0.95     71841\n",
      "\n",
      "    accuracy                           0.92     91524\n",
      "   macro avg       0.89      0.88      0.88     91524\n",
      "weighted avg       0.92      0.92      0.92     91524\n",
      "\n"
     ]
    }
   ],
   "source": [
    "print(classification_report_forest)"
   ]
  }
 ],
 "metadata": {
  "kernelspec": {
   "display_name": "Python 3 (ipykernel)",
   "language": "python",
   "name": "python3"
  },
  "language_info": {
   "codemirror_mode": {
    "name": "ipython",
    "version": 3
   },
   "file_extension": ".py",
   "mimetype": "text/x-python",
   "name": "python",
   "nbconvert_exporter": "python",
   "pygments_lexer": "ipython3",
   "version": "3.8.3rc1"
  }
 },
 "nbformat": 4,
 "nbformat_minor": 5
}
